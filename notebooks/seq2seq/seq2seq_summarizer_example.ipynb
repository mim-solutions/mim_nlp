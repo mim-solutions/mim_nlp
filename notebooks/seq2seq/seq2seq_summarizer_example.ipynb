{
 "cells": [
  {
   "cell_type": "code",
   "execution_count": 1,
   "id": "32402895-3167-4668-8d5c-69bd06a54ddf",
   "metadata": {},
   "outputs": [
    {
     "name": "stderr",
     "output_type": "stream",
     "text": [
      "/home/jupyter-mbrzozowski/.conda/envs/mim_nlp/lib/python3.9/site-packages/tqdm/auto.py:21: TqdmWarning: IProgress not found. Please update jupyter and ipywidgets. See https://ipywidgets.readthedocs.io/en/stable/user_install.html\n",
      "  from .autonotebook import tqdm as notebook_tqdm\n"
     ]
    }
   ],
   "source": [
    "import os\n",
    "\n",
    "import torch\n",
    "from datasets import load_dataset\n",
    "from transformers import TrainingArguments\n",
    "\n",
    "while \"notebooks\" in os.getcwd():\n",
    "    os.chdir(\"..\")\n",
    "\n",
    "from mim_nlp.seq2seq import AutoSummarizer"
   ]
  },
  {
   "cell_type": "markdown",
   "id": "226b29bd-ead4-4e33-97d2-79d93eb1b8a5",
   "metadata": {},
   "source": [
    "# Choose GPU"
   ]
  },
  {
   "cell_type": "code",
   "execution_count": 2,
   "id": "60970b3f-a9b8-42aa-ad84-49bca37831dc",
   "metadata": {},
   "outputs": [
    {
     "data": {
      "text/plain": [
       "True"
      ]
     },
     "execution_count": 2,
     "metadata": {},
     "output_type": "execute_result"
    }
   ],
   "source": [
    "os.environ[\"CUDA_VISIBLE_DEVICES\"] = \"2\"\n",
    "torch.cuda.is_available()"
   ]
  },
  {
   "cell_type": "markdown",
   "id": "ce58493c-fcac-4327-a331-63bb08e849a8",
   "metadata": {},
   "source": [
    "# Loading an open-source summary dataset"
   ]
  },
  {
   "cell_type": "code",
   "execution_count": 3,
   "id": "abcc96ed-8bd4-4617-a8fe-3415ab353655",
   "metadata": {},
   "outputs": [
    {
     "name": "stderr",
     "output_type": "stream",
     "text": [
      "Found cached dataset csv (/home/jupyter-mbrzozowski/.cache/huggingface/datasets/allegro___csv/allegro--summarization-polish-summaries-corpus-85a9d1415b78fdd5/0.0.0/6954658bab30a358235fa864b05cf819af0e179325c740e4bc853bcc7ec513e1)\n",
      "100%|██████████| 3/3 [00:00<00:00, 574.35it/s]\n"
     ]
    }
   ],
   "source": [
    "dataset = load_dataset(\"allegro/summarization-polish-summaries-corpus\")"
   ]
  },
  {
   "cell_type": "code",
   "execution_count": 4,
   "id": "8e6dc673-10e5-4a24-82c0-81eef6c4f48a",
   "metadata": {},
   "outputs": [
    {
     "data": {
      "text/plain": [
       "DatasetDict({\n",
       "    train: Dataset({\n",
       "        features: ['source', 'target'],\n",
       "        num_rows: 15598\n",
       "    })\n",
       "    validation: Dataset({\n",
       "        features: ['source', 'target'],\n",
       "        num_rows: 1734\n",
       "    })\n",
       "    test: Dataset({\n",
       "        features: ['source', 'target'],\n",
       "        num_rows: 4334\n",
       "    })\n",
       "})"
      ]
     },
     "execution_count": 4,
     "metadata": {},
     "output_type": "execute_result"
    }
   ],
   "source": [
    "dataset"
   ]
  },
  {
   "cell_type": "code",
   "execution_count": 5,
   "id": "4dc7c81e-8252-4fb6-8a46-a519159daf91",
   "metadata": {},
   "outputs": [
    {
     "data": {
      "text/plain": [
       "'We wrześniu w życie wejdzie reforma oświaty, więc niezbędna będzie wymiana wielu podręczników. Wykaz książek dopuszczonych przez MEN do nauki w szkołach ukaże się dopiero pod koniec sierpnia. Wydawnictwa szukają sposobów, by zachęcić nauczycieli do wybrania ich podręczników. Do tej pory nauczyciele niechętnie zmieniali podręczniki, z których uczyli, a teraz będą do tego zmuszeni.'"
      ]
     },
     "execution_count": 5,
     "metadata": {},
     "output_type": "execute_result"
    }
   ],
   "source": [
    "dataset[\"train\"][\"target\"][0]"
   ]
  },
  {
   "cell_type": "code",
   "execution_count": 6,
   "id": "24d1cdac-eeae-46b8-bfcb-52f200cd97da",
   "metadata": {},
   "outputs": [
    {
     "data": {
      "text/plain": [
       "15598"
      ]
     },
     "execution_count": 6,
     "metadata": {},
     "output_type": "execute_result"
    }
   ],
   "source": [
    "len(dataset[\"train\"][\"source\"])"
   ]
  },
  {
   "cell_type": "markdown",
   "id": "dfd41705-ad1c-4ddc-98cd-18248470044f",
   "metadata": {},
   "source": [
    "# Training a model on the dataset sample"
   ]
  },
  {
   "cell_type": "code",
   "execution_count": 7,
   "id": "42bebf37-b9c4-40e1-a8f1-895381bcceb0",
   "metadata": {},
   "outputs": [],
   "source": [
    "training_arguments = TrainingArguments(\n",
    "    output_dir=\"tmp\", num_train_epochs=1, logging_steps=100, per_device_train_batch_size=2, optim=\"adamw_torch\"\n",
    ")"
   ]
  },
  {
   "cell_type": "code",
   "execution_count": 8,
   "id": "10a18ba7-5c70-44f4-8f3d-57038cc09872",
   "metadata": {},
   "outputs": [],
   "source": [
    "# to use this model, install protobuf==3.20 and sentencepiece\n",
    "model = AutoSummarizer(\n",
    "    pretrained_model_name_or_path=\"allegro/plt5-base\", max_length=1024, training_args=training_arguments\n",
    ")"
   ]
  },
  {
   "cell_type": "code",
   "execution_count": 9,
   "id": "e4144316-5572-4b25-872a-28d7645a734a",
   "metadata": {},
   "outputs": [
    {
     "data": {
      "text/html": [
       "\n",
       "    <div>\n",
       "      \n",
       "      <progress value='500' max='500' style='width:300px; height:20px; vertical-align: middle;'></progress>\n",
       "      [500/500 03:05, Epoch 1/1]\n",
       "    </div>\n",
       "    <table border=\"1\" class=\"dataframe\">\n",
       "  <thead>\n",
       " <tr style=\"text-align: left;\">\n",
       "      <th>Step</th>\n",
       "      <th>Training Loss</th>\n",
       "    </tr>\n",
       "  </thead>\n",
       "  <tbody>\n",
       "    <tr>\n",
       "      <td>100</td>\n",
       "      <td>7.082500</td>\n",
       "    </tr>\n",
       "    <tr>\n",
       "      <td>200</td>\n",
       "      <td>4.031500</td>\n",
       "    </tr>\n",
       "    <tr>\n",
       "      <td>300</td>\n",
       "      <td>3.703300</td>\n",
       "    </tr>\n",
       "    <tr>\n",
       "      <td>400</td>\n",
       "      <td>3.635500</td>\n",
       "    </tr>\n",
       "    <tr>\n",
       "      <td>500</td>\n",
       "      <td>3.635000</td>\n",
       "    </tr>\n",
       "  </tbody>\n",
       "</table><p>"
      ],
      "text/plain": [
       "<IPython.core.display.HTML object>"
      ]
     },
     "metadata": {},
     "output_type": "display_data"
    }
   ],
   "source": [
    "N_SAMPLES = 1000\n",
    "model.fit(dataset[\"train\"][\"source\"][:N_SAMPLES], dataset[\"train\"][\"target\"][:N_SAMPLES])"
   ]
  },
  {
   "cell_type": "markdown",
   "id": "cebaebd5-b7a4-4d2a-af26-59bd2cf2319a",
   "metadata": {},
   "source": [
    "# Predicting"
   ]
  },
  {
   "cell_type": "code",
   "execution_count": 10,
   "id": "c52e1ead-a252-4ed3-978d-ea5e97d650b5",
   "metadata": {},
   "outputs": [],
   "source": [
    "source = dataset[\"validation\"][\"source\"][0]\n",
    "target = dataset[\"validation\"][\"target\"][0]"
   ]
  },
  {
   "cell_type": "code",
   "execution_count": 11,
   "id": "8c03e61a-93dd-464b-b02e-854e65ffeacb",
   "metadata": {},
   "outputs": [
    {
     "name": "stdout",
     "output_type": "stream",
     "text": [
      "Andrzej Gołota przegrał z Michaelem Grantem w 10. rundzie. 27-letni Michael Grant był faworytem w pojedynku z Gołotą. Olbrzym z Norristown (202 cm, 114 kg) nie przegrał żadnej z 30 zawodowych walk. Kilku znanych mistrzów boksu twierdziło jednak publicznie, że Polak ma duże szanse. \n",
      "Pierwsze rundy walki w Atlantic City potwierdziły te opinie. Przed dziesiątym starciem Gołota prowadził na punkty u wszystkich sędziów. W dziesiątej rundzie po lewym sierpowym i prawym podbródkowym Granta padł na deski.  Wstał wprawdzie dość szybko, ale Randy Naumann przerwał pojedynek.\n",
      "Gołota przegrał i zarobił kolejny milion dolarów. Raz jeszcze pokazał, że jest bokserem wyśmienitym, ale charakteru do wygrywania mu brak.\n"
     ]
    }
   ],
   "source": [
    "print(target)"
   ]
  },
  {
   "cell_type": "code",
   "execution_count": 12,
   "id": "f0602b8b-60a9-45c8-acfa-a9f119e11d9b",
   "metadata": {},
   "outputs": [
    {
     "name": "stderr",
     "output_type": "stream",
     "text": [
      "predicting in batches of size 1: 100%|██████████| 1/1 [00:00<00:00,  3.16it/s]\n"
     ]
    },
    {
     "data": {
      "text/plain": [
       "array(['en. W pierwszej rundzie walki z Gołota i Granta były pięściarze, które przegrało w'],\n",
       "      dtype='<U82')"
      ]
     },
     "execution_count": 12,
     "metadata": {},
     "output_type": "execute_result"
    }
   ],
   "source": [
    "model.predict([source], max_new_tokens=20)"
   ]
  },
  {
   "cell_type": "markdown",
   "id": "7ff43d22-627d-4a4e-b795-fbe55d6caadd",
   "metadata": {},
   "source": [
    "# Saving the model"
   ]
  },
  {
   "cell_type": "code",
   "execution_count": 13,
   "id": "4bd52b5d-8d90-4a3e-a2a2-d6057ba6c1e1",
   "metadata": {},
   "outputs": [],
   "source": [
    "model.save(\"models/my_plt5_model\")"
   ]
  },
  {
   "cell_type": "markdown",
   "id": "7af4b5f4-2081-4385-8f07-856bbc9ca4fd",
   "metadata": {},
   "source": [
    "# Loading the model"
   ]
  },
  {
   "cell_type": "code",
   "execution_count": 14,
   "id": "5d2503b5-470d-4dd7-a712-fff3c430d83b",
   "metadata": {},
   "outputs": [],
   "source": [
    "model = AutoSummarizer.load(\"models/my_plt5_model/\")"
   ]
  },
  {
   "cell_type": "code",
   "execution_count": 15,
   "id": "32170e73-f5d4-4a08-abab-717cf250a117",
   "metadata": {},
   "outputs": [
    {
     "data": {
      "text/plain": [
       "<mim_nlp.seq2seq.summarizer.auto_summarizer.AutoSummarizer at 0x7f1271983ac0>"
      ]
     },
     "execution_count": 15,
     "metadata": {},
     "output_type": "execute_result"
    }
   ],
   "source": [
    "model"
   ]
  },
  {
   "cell_type": "code",
   "execution_count": 16,
   "id": "03165af0-a1ec-4205-b992-aaa1804b9ada",
   "metadata": {},
   "outputs": [
    {
     "name": "stderr",
     "output_type": "stream",
     "text": [
      "predicting in batches of size 1: 100%|██████████| 1/1 [00:00<00:00,  3.28it/s]\n"
     ]
    },
    {
     "data": {
      "text/plain": [
       "array(['Anity nie było to już tak zdziwieniam. Granie z Gołotą był wy'],\n",
       "      dtype='<U61')"
      ]
     },
     "execution_count": 16,
     "metadata": {},
     "output_type": "execute_result"
    }
   ],
   "source": [
    "model.predict([source], max_new_tokens=20)"
   ]
  }
 ],
 "metadata": {
  "kernelspec": {
   "display_name": "Python [conda env:.conda-mim_nlp]",
   "language": "python",
   "name": "conda-env-.conda-mim_nlp-py"
  },
  "language_info": {
   "codemirror_mode": {
    "name": "ipython",
    "version": 3
   },
   "file_extension": ".py",
   "mimetype": "text/x-python",
   "name": "python",
   "nbconvert_exporter": "python",
   "pygments_lexer": "ipython3",
   "version": "3.9.16"
  }
 },
 "nbformat": 4,
 "nbformat_minor": 5
}
