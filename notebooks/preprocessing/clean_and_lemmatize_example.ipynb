{
 "cells": [
  {
   "cell_type": "code",
   "execution_count": 1,
   "id": "32402895-3167-4668-8d5c-69bd06a54ddf",
   "metadata": {},
   "outputs": [
    {
     "name": "stderr",
     "output_type": "stream",
     "text": [
      "/home/mbrzozowski/projects/mim_nlp/.venv/lib/python3.10/site-packages/tqdm/auto.py:21: TqdmWarning: IProgress not found. Please update jupyter and ipywidgets. See https://ipywidgets.readthedocs.io/en/stable/user_install.html\n",
      "  from .autonotebook import tqdm as notebook_tqdm\n"
     ]
    }
   ],
   "source": [
    "import os\n",
    "\n",
    "from datasets import load_dataset\n",
    "from functools import partial\n",
    "\n",
    "while \"notebooks\" in os.getcwd():\n",
    "    os.chdir(\"..\")\n",
    "\n",
    "import gensim.parsing.preprocessing as gsp\n",
    "\n",
    "from mim_nlp.preprocessing import (\n",
    "    lemmatize,\n",
    "    process_emojis,\n",
    "    remove_urls,\n",
    "    strip_multiple_emojis,\n",
    "    strip_short_words,\n",
    "    TextCleaner,\n",
    "    token_usernames,\n",
    ")"
   ]
  },
  {
   "attachments": {},
   "cell_type": "markdown",
   "id": "ce58493c-fcac-4327-a331-63bb08e849a8",
   "metadata": {},
   "source": [
    "# Loading an open-source dataset"
   ]
  },
  {
   "cell_type": "code",
   "execution_count": 2,
   "id": "abcc96ed-8bd4-4617-a8fe-3415ab353655",
   "metadata": {},
   "outputs": [
    {
     "name": "stderr",
     "output_type": "stream",
     "text": [
      "2023-06-23 11:52:11,140 | WARNING | builder.py:835 | download_and_prepare | Found cached dataset csv (/home/mbrzozowski/.cache/huggingface/datasets/allegro___csv/allegro--summarization-polish-summaries-corpus-4ed727a8161c653e/0.0.0/eea64c71ca8b46dd3f537ed218fc9bf495d5707789152eb2764f5c78fa66d59d)\n",
      "100%|██████████| 3/3 [00:00<00:00, 813.38it/s]\n"
     ]
    }
   ],
   "source": [
    "dataset = load_dataset(\"allegro/summarization-polish-summaries-corpus\")"
   ]
  },
  {
   "cell_type": "code",
   "execution_count": 3,
   "id": "24d1cdac-eeae-46b8-bfcb-52f200cd97da",
   "metadata": {},
   "outputs": [],
   "source": [
    "texts = dataset[\"train\"][\"target\"]"
   ]
  },
  {
   "cell_type": "code",
   "execution_count": 4,
   "id": "55e434d3-5d9e-452e-b5ab-f6756dc666b0",
   "metadata": {},
   "outputs": [
    {
     "data": {
      "text/plain": [
       "15598"
      ]
     },
     "execution_count": 4,
     "metadata": {},
     "output_type": "execute_result"
    }
   ],
   "source": [
    "len(texts)"
   ]
  },
  {
   "attachments": {},
   "cell_type": "markdown",
   "id": "13535d53-60d4-4556-b058-56faa471e816",
   "metadata": {},
   "source": [
    "# Define the preprocessing pipeline"
   ]
  },
  {
   "cell_type": "code",
   "execution_count": 5,
   "id": "507f2989",
   "metadata": {},
   "outputs": [],
   "source": [
    "def lowercase(x: str) -> str:\n",
    "    return x.lower()"
   ]
  },
  {
   "cell_type": "code",
   "execution_count": 6,
   "id": "825fa311-29c2-490d-879f-47a93ef74e97",
   "metadata": {},
   "outputs": [],
   "source": [
    "pipeline = [\n",
    "    lowercase,\n",
    "    token_usernames,\n",
    "    gsp.strip_tags,\n",
    "    remove_urls,\n",
    "    process_emojis,\n",
    "    gsp.strip_punctuation,\n",
    "    gsp.strip_numeric,\n",
    "    gsp.strip_multiple_whitespaces,\n",
    "    partial(strip_short_words, minsize=3),\n",
    "    strip_multiple_emojis,\n",
    "    lemmatize,\n",
    "]"
   ]
  },
  {
   "cell_type": "code",
   "execution_count": 7,
   "id": "5a590322-acd7-4ef6-b2b0-2dd9f2956a40",
   "metadata": {},
   "outputs": [],
   "source": [
    "text_cleaner = TextCleaner(pipeline=pipeline)"
   ]
  },
  {
   "attachments": {},
   "cell_type": "markdown",
   "id": "05421667-220d-4a0e-901e-3675a3eae99b",
   "metadata": {},
   "source": [
    "# Set the sample size"
   ]
  },
  {
   "cell_type": "code",
   "execution_count": 8,
   "id": "4dde02e3-7e60-4b04-b762-496a1771c58d",
   "metadata": {},
   "outputs": [],
   "source": [
    "N = 10000\n",
    "texts_sample = texts[:N]"
   ]
  },
  {
   "attachments": {},
   "cell_type": "markdown",
   "id": "4b9b03b3-89b1-44f2-9cf4-579deec02764",
   "metadata": {},
   "source": [
    "# Run without multiprocessing"
   ]
  },
  {
   "cell_type": "code",
   "execution_count": 9,
   "id": "7e85c49c-87a6-4231-8003-73fa1b18d83c",
   "metadata": {},
   "outputs": [],
   "source": [
    "%%time\n",
    "clean_texts = text_cleaner.clean_texts(texts_sample, multiprocessing=False)"
   ]
  },
  {
   "attachments": {},
   "cell_type": "markdown",
   "id": "c5d47bf4-9ff9-471a-82a7-7ec7d485ebae",
   "metadata": {},
   "source": [
    "# Run with multiprocessing"
   ]
  },
  {
   "cell_type": "code",
   "execution_count": 9,
   "id": "98810ae2-9b2f-40ea-af44-94db28f85fd5",
   "metadata": {},
   "outputs": [
    {
     "name": "stdout",
     "output_type": "stream",
     "text": [
      "CPU times: user 269 ms, sys: 223 ms, total: 492 ms\n",
      "Wall time: 1min 27s\n"
     ]
    }
   ],
   "source": [
    "%%time\n",
    "clean_texts = text_cleaner.clean_texts(texts_sample, multiprocessing=True)"
   ]
  },
  {
   "cell_type": "code",
   "execution_count": 10,
   "id": "d2864644-37e9-4ec4-9933-274d9ebc17c3",
   "metadata": {},
   "outputs": [
    {
     "data": {
      "text/plain": [
       "array(['wrzesień życie wejść reforma oświata więc niezbędny być wymiana wiele podręcznik wykaz książka dopuścić przez MEN nauka szkoła ukazać się dopiero pod koniec sierpień wydawnictwo szukać sposób zachęcić nauczyciel wybrać on podręcznik ten por nauczyciel niechętnie zmieniać podręcznik który uczyć teraz być to zmusić',\n",
       "       'kasacja cel zapewnić obywatelon szeroki dostęp niezależny niezawisły sąd tym przypadek sąd najwyższy szczególność kasacja polegać szeroki włączyć instancyjny działalność orzeczniczy umacnić prawo zaufanie obywatel profesjonalizm przekładać się liczba odwołać orzeczenie sąd druga instancja nawet ten sprawa któych ładunek problematyka prawny nie uzasadniać wypowiedź wnosić kasacja oczekiwać niekorzystny dla on wynik sprawić prawo zostać zmienić gdyby jednak przy określać zasięg kasacja bracić pod uwaga wyłącznie społeczny zapotrzebowanie orzecznictwo dojść sytuacja niemożliwy przyjęcie zarówno wzgląd cel organizacja wymiar sprawiedliwość jak sam prawo obywatel sąd ponieważ wymagać stworzyć odpowiedni warunki zapewniać sprawność podstępować kolej sprawić napłynąć tył sprawić on rozpoznać utrudnić nadzór nad orzecznictwo sąd powszechny wydłużyć postępowanie poza kasacja zajmować się tenże ogólnie nadzór nad sąd powszechny zakres orzecznictwo oraz inny czynność on ustawa określony nie powinien być zatem traktować jako jednać instancja sądowy nadzór nad orzecznictwo może być sprawny tylko wówczas gdy czas pełny wykorzystać swój potencjał orzeczniczy sprawa ciekawy problematyka prawny ważny dla kształtować właściwy kierunek wykładnia stosować prawa oraz ujednolicanie orzecznictwo trzy lato wprowadzenie kasacja dział sprawić cywilny widać sprawić wpływać zbyt dużo aby sędzia móc soba on poradzić odpowiedni czas izba cywilny kierować się sprawa wokanda wedle kolejność on wpływ regulacja opierać się zasada równy trakotwania wszystek strona przed sąd przy taki zaległość nacisk przyspieszyć postępowanie nie być możliwy stosować kryterium merytoryczny taki jak precedensowy charakter sprawa czy interesujący problematyka prawny odpowiedzialność odstępstwo ten reguła brać siebie przewodniczyć wydział składać wniosek kasacja jednak czujny usiłować dociec dlaczego sprawa wysoki sygnatura zostać umieścić wokanda konieczny być zatem usprawnienie działalność to niezbędny być jednak interwencja ustawodawca postać odpowiedni nowelizacja przepis część dotyczyć kasacja tym cel należeć wyeliminować postępowanie kasacyjny drobne sprawa dotyczyć prawa osobowy rodzinny rzeczowy spadkowy rejestrowy oraz ograniczyć dopuszczać zaskarżyć postanowienie kończyć postępowanie',\n",
       "       'iii prawodawca polski chcieć powiązać zmiana społeczny zmiana prawie świadomy powrót dawny klauzula generalny klauzula zasada dobry obyczaj który zaczynać pojawiać się zamiast odwołać zasada współżycie społeczny być klauzula identyfikacyjny socjalistyczny systema prawny odwołać zasada współżycie społeczny ustrój socjalistyczny prowadzić podporządkować interes jednostkowy grupowy grupowy ogólnospołeczny oraz upolitycznić sposób odczytać treść zasada intencja powoływać nowy odesłać czytelny chęć nawiązać klasyczny sformułowanie kodeks cywilny handlowy państwo europejski chęć odejście praktyk upolityczniać klauzula oraz być zamiar pewny ukonkretnić odesłać przez ścisły związać ocena podmiot stosować prawo norma ocena funkcjonować społeczeństwo trzeba jednak podkreślić skutek wywoływać przez klauzula generalny decydować otoczenie społeczny polityczny prawa który muszy się odwoływać praktyka podejmować podstawa klauzula decyzja nie można ulegać złudzenie tylko zastąpić jeden klauzula druga zmienić praktyka decyzyjny właśnie praktyka zadecydować ił rzeczywiście zmienić się aksjologia dana klauzula proces decyzyjny konsekwencja należeć zatem kibicować taki zmiana praktyka stosować prawa dzięki który klauzula generalny stosowany być sposób odpowiadać aktualny przekształcenie społeczny oraz główny nurt dokonać międzynarodowy obrót prawny',\n",
       "       'tym rok odbyć się edycja wielkoszlemowy turniej trawiasty kort Wimbledon obcokrajowiec tenisowy gadżet dyskretnie zarzucać już lotnisko gdzie znajdować się stoisko wimbledoński koszulka czapka ręcznik sławny sklep harrodsa wszystek barwa the all england lawn tennis Anda croquet Club fioletowy ciemnozielony rok turniej londyński kort zaczynać się oficjalnie sześć tydzień przed pierwszy poniedziałek sierpień jeśli pogoda sprzyjać wszystek trwać dwa tydzień wolny niedziela środek fan Wimbledon dotrzeć móc samochód ale móc miecić problem zaparkować klub metr tama następować pierwsze bliski spotkać atmosfera turniej słup wisieć petunia hortensja geranium taki sam jaki lato zdobić balkon obiekt klubowy peron leż sztuczny zielony trawa nim jednak udo się dostać teren klub trzeba poczekać kolejka bowiem jedno dzień kort docierać nawet tysiąc osoba lato trwać dyskusja jaki dziś znaczenie gra łysieć przez dwa tydzień trawa który piłka odbijać się szybka nisko czas krzywa dodatek cały tenisowy świat być jeszcze rozgrzać sezon kort ziemny miesiąc się przestawić kort twardy tłum Wimbledon nie maić wątpliwość nawet mecz bardzo odległy kort spektakl który trzeba patrzeć decydować nie tył uroda tenis wersja trawiasty tylko bardzo trudno dostać bilet krzesełko kort centralny cierpliwy pozostawać czekan ten który się znudzić wychodzić kort wrzucić swój bilet specjalny skrzynka ułamek cena można dostać się bardzo prestiżowy miejsce Wimbledon nie wszystek udo się wejść mecz ale tenże nie wszystek tym koniec zainteresować część osoba przychodzić teren klub jedynie poczuć splendor miejsce on atmosfera podstawowy sprawa Wimbledon być tenże spożycie parę lokalny posiłki oraz nabyć pamiątka aby pochwalić się przed znajomy obecność ten świątynia tradycja tenisowy luksus',\n",
       "       'badać dotyczyć wpływ spożycie alkohol zdrowie pokazować jak trudno jednoznacznie ten wpływ ocenić jeden strona uważać się małe dawka móc korzystnie wpływać zdrowie szczególnie lud spożywać każdy dzień niewielki ilość wina zaobserwować przykład kraj śródziemnomorski mniej narazić zawał serce nowotwór druga strona badacz ostrzegać alkohol każdy postać zawierać substancja szkodliwy dla zdrowie tym trudnie wytyczyć granica pomiędzy „ dawka taki który istotnie wpływać rozwój różny choroba przestrzegać się więc przed pić alkohol oblicze zakorzenić kulturowo rytuał wspólny pić alkohol nie zawsze dawać pozytywny skutek'],\n",
       "      dtype='<U5813')"
      ]
     },
     "execution_count": 10,
     "metadata": {},
     "output_type": "execute_result"
    }
   ],
   "source": [
    "clean_texts[:5]"
   ]
  }
 ],
 "metadata": {
  "kernelspec": {
   "display_name": ".venv",
   "language": "python",
   "name": "python3"
  },
  "language_info": {
   "codemirror_mode": {
    "name": "ipython",
    "version": 3
   },
   "file_extension": ".py",
   "mimetype": "text/x-python",
   "name": "python",
   "nbconvert_exporter": "python",
   "pygments_lexer": "ipython3",
   "version": "3.10.12"
  }
 },
 "nbformat": 4,
 "nbformat_minor": 5
}
