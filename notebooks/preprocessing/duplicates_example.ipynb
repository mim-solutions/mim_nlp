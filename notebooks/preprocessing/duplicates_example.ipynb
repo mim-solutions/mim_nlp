{
 "cells": [
  {
   "cell_type": "code",
   "execution_count": 1,
   "id": "32402895-3167-4668-8d5c-69bd06a54ddf",
   "metadata": {},
   "outputs": [],
   "source": [
    "import os\n",
    "\n",
    "from datasets import load_dataset\n",
    "import pandas as pd\n",
    "\n",
    "while \"notebooks\" in os.getcwd():\n",
    "    os.chdir(\"..\")\n",
    "\n",
    "from mim_nlp.preprocessing import Deduplicator"
   ]
  },
  {
   "cell_type": "markdown",
   "id": "ce58493c-fcac-4327-a331-63bb08e849a8",
   "metadata": {},
   "source": [
    "# Loading an open-source dataset"
   ]
  },
  {
   "cell_type": "code",
   "execution_count": 2,
   "id": "abcc96ed-8bd4-4617-a8fe-3415ab353655",
   "metadata": {},
   "outputs": [
    {
     "name": "stderr",
     "output_type": "stream",
     "text": [
      "Found cached dataset tweets_hate_speech_detection (/home/jupyter-mbrzozowski/.cache/huggingface/datasets/tweets_hate_speech_detection/default/0.0.0/d8cea5e82c610e1675eee6632345085d81875565ea46d24bdcd5a7f382e335ad)\n"
     ]
    },
    {
     "data": {
      "application/vnd.jupyter.widget-view+json": {
       "model_id": "b0aeec7e29864d58895b6c0a2d80a490",
       "version_major": 2,
       "version_minor": 0
      },
      "text/plain": [
       "  0%|          | 0/2 [00:00<?, ?it/s]"
      ]
     },
     "metadata": {},
     "output_type": "display_data"
    }
   ],
   "source": [
    "dataset = load_dataset(\"tweets_hate_speech_detection\")"
   ]
  },
  {
   "cell_type": "code",
   "execution_count": 3,
   "id": "8e6dc673-10e5-4a24-82c0-81eef6c4f48a",
   "metadata": {},
   "outputs": [
    {
     "data": {
      "text/plain": [
       "DatasetDict({\n",
       "    train: Dataset({\n",
       "        features: ['label', 'tweet'],\n",
       "        num_rows: 31962\n",
       "    })\n",
       "    test: Dataset({\n",
       "        features: ['label', 'tweet'],\n",
       "        num_rows: 17197\n",
       "    })\n",
       "})"
      ]
     },
     "execution_count": 3,
     "metadata": {},
     "output_type": "execute_result"
    }
   ],
   "source": [
    "dataset"
   ]
  },
  {
   "cell_type": "code",
   "execution_count": 4,
   "id": "4dc7c81e-8252-4fb6-8a46-a519159daf91",
   "metadata": {},
   "outputs": [
    {
     "data": {
      "text/plain": [
       "'@user when a father is dysfunctional and is so selfish he drags his kids into his dysfunction.   #run'"
      ]
     },
     "execution_count": 4,
     "metadata": {},
     "output_type": "execute_result"
    }
   ],
   "source": [
    "dataset[\"train\"][\"tweet\"][0]"
   ]
  },
  {
   "cell_type": "code",
   "execution_count": 5,
   "id": "24d1cdac-eeae-46b8-bfcb-52f200cd97da",
   "metadata": {},
   "outputs": [],
   "source": [
    "texts = dataset[\"train\"][\"tweet\"]"
   ]
  },
  {
   "cell_type": "markdown",
   "id": "dfd41705-ad1c-4ddc-98cd-18248470044f",
   "metadata": {},
   "source": [
    "# Load Deduplicator"
   ]
  },
  {
   "cell_type": "code",
   "execution_count": 6,
   "id": "1f2743c9-63d5-4db2-8e6d-6956dd157fc9",
   "metadata": {},
   "outputs": [],
   "source": [
    "deduplicator = Deduplicator()"
   ]
  },
  {
   "cell_type": "markdown",
   "id": "cebaebd5-b7a4-4d2a-af26-59bd2cf2319a",
   "metadata": {},
   "source": [
    "# Clusterize partial duplicates"
   ]
  },
  {
   "cell_type": "code",
   "execution_count": 7,
   "id": "69035b32-7204-478d-ba68-ec6c2a8a1a13",
   "metadata": {},
   "outputs": [],
   "source": [
    "N = 1000\n",
    "texts_sample = texts[:N]"
   ]
  },
  {
   "cell_type": "code",
   "execution_count": 8,
   "id": "20c8f862-eda8-452d-9dfa-0a2ca5c4a60f",
   "metadata": {},
   "outputs": [
    {
     "name": "stdout",
     "output_type": "stream",
     "text": [
      "CPU times: user 1.92 s, sys: 812 ms, total: 2.73 s\n",
      "Wall time: 2.73 s\n"
     ]
    }
   ],
   "source": [
    "%%time\n",
    "clusters = deduplicator.clusterize_partial_duplicates(texts_sample)"
   ]
  },
  {
   "cell_type": "code",
   "execution_count": 9,
   "id": "b29a0c47-d1f8-4a74-9330-eb3560d82d07",
   "metadata": {},
   "outputs": [],
   "source": [
    "df = pd.DataFrame({\"text\": texts_sample, \"cluster\": clusters})"
   ]
  },
  {
   "cell_type": "code",
   "execution_count": 10,
   "id": "b1e68871-1c68-4fdf-9fe3-a624c5fdd2a5",
   "metadata": {},
   "outputs": [
    {
     "data": {
      "text/plain": [
       "cluster\n",
       "3          13\n",
       "35          6\n",
       "164         5\n",
       "334         3\n",
       "192         3\n",
       "           ..\n",
       "345         1\n",
       "346         1\n",
       "347         1\n",
       "348         1\n",
       "999         1\n",
       "Name: count, Length: 966, dtype: int64"
      ]
     },
     "execution_count": 10,
     "metadata": {},
     "output_type": "execute_result"
    }
   ],
   "source": [
    "df.value_counts([\"cluster\"])"
   ]
  },
  {
   "cell_type": "code",
   "execution_count": 11,
   "id": "1bb4268d-6bb6-4bfe-9e31-77aaaf877c4a",
   "metadata": {},
   "outputs": [
    {
     "data": {
      "text/html": [
       "<div>\n",
       "<style scoped>\n",
       "    .dataframe tbody tr th:only-of-type {\n",
       "        vertical-align: middle;\n",
       "    }\n",
       "\n",
       "    .dataframe tbody tr th {\n",
       "        vertical-align: top;\n",
       "    }\n",
       "\n",
       "    .dataframe thead th {\n",
       "        text-align: right;\n",
       "    }\n",
       "</style>\n",
       "<table border=\"1\" class=\"dataframe\">\n",
       "  <thead>\n",
       "    <tr style=\"text-align: right;\">\n",
       "      <th></th>\n",
       "      <th>text</th>\n",
       "      <th>cluster</th>\n",
       "    </tr>\n",
       "  </thead>\n",
       "  <tbody>\n",
       "    <tr>\n",
       "      <th>35</th>\n",
       "      <td>#taylorswift1989   bull up: you will dominate ...</td>\n",
       "      <td>35</td>\n",
       "    </tr>\n",
       "    <tr>\n",
       "      <th>196</th>\n",
       "      <td>#nohcarolina   bull up: you will dominate your...</td>\n",
       "      <td>35</td>\n",
       "    </tr>\n",
       "    <tr>\n",
       "      <th>254</th>\n",
       "      <td>#dreamcatcher   bull up: you will dominate you...</td>\n",
       "      <td>35</td>\n",
       "    </tr>\n",
       "    <tr>\n",
       "      <th>453</th>\n",
       "      <td>#poet   bull up: you will dominate your bull a...</td>\n",
       "      <td>35</td>\n",
       "    </tr>\n",
       "    <tr>\n",
       "      <th>638</th>\n",
       "      <td>#smaphone   bull up: you will dominate your bu...</td>\n",
       "      <td>35</td>\n",
       "    </tr>\n",
       "  </tbody>\n",
       "</table>\n",
       "</div>"
      ],
      "text/plain": [
       "                                                  text  cluster\n",
       "35   #taylorswift1989   bull up: you will dominate ...       35\n",
       "196  #nohcarolina   bull up: you will dominate your...       35\n",
       "254  #dreamcatcher   bull up: you will dominate you...       35\n",
       "453  #poet   bull up: you will dominate your bull a...       35\n",
       "638  #smaphone   bull up: you will dominate your bu...       35"
      ]
     },
     "execution_count": 11,
     "metadata": {},
     "output_type": "execute_result"
    }
   ],
   "source": [
    "df[df[\"cluster\"] == 35].head()"
   ]
  },
  {
   "cell_type": "markdown",
   "id": "10206284-1c81-4199-baa0-c3cff52017dd",
   "metadata": {},
   "source": [
    "# Eliminate partial duplicates"
   ]
  },
  {
   "cell_type": "code",
   "execution_count": 12,
   "id": "31f19a40-196e-46a1-87f6-4a503a03d39c",
   "metadata": {},
   "outputs": [
    {
     "data": {
      "text/html": [
       "<div>\n",
       "<style scoped>\n",
       "    .dataframe tbody tr th:only-of-type {\n",
       "        vertical-align: middle;\n",
       "    }\n",
       "\n",
       "    .dataframe tbody tr th {\n",
       "        vertical-align: top;\n",
       "    }\n",
       "\n",
       "    .dataframe thead th {\n",
       "        text-align: right;\n",
       "    }\n",
       "</style>\n",
       "<table border=\"1\" class=\"dataframe\">\n",
       "  <thead>\n",
       "    <tr style=\"text-align: right;\">\n",
       "      <th></th>\n",
       "      <th>text</th>\n",
       "      <th>cluster</th>\n",
       "    </tr>\n",
       "  </thead>\n",
       "  <tbody>\n",
       "    <tr>\n",
       "      <th>0</th>\n",
       "      <td>@user when a father is dysfunctional and is so...</td>\n",
       "      <td>0</td>\n",
       "    </tr>\n",
       "    <tr>\n",
       "      <th>1</th>\n",
       "      <td>@user @user thanks for #lyft credit i can't us...</td>\n",
       "      <td>1</td>\n",
       "    </tr>\n",
       "    <tr>\n",
       "      <th>2</th>\n",
       "      <td>bihday your majesty</td>\n",
       "      <td>2</td>\n",
       "    </tr>\n",
       "    <tr>\n",
       "      <th>3</th>\n",
       "      <td>#model   i love u take with u all the time in ...</td>\n",
       "      <td>3</td>\n",
       "    </tr>\n",
       "    <tr>\n",
       "      <th>4</th>\n",
       "      <td>factsguide: society now    #motivation</td>\n",
       "      <td>4</td>\n",
       "    </tr>\n",
       "    <tr>\n",
       "      <th>...</th>\n",
       "      <td>...</td>\n",
       "      <td>...</td>\n",
       "    </tr>\n",
       "    <tr>\n",
       "      <th>961</th>\n",
       "      <td>are you really   or just pretending to be?  #t...</td>\n",
       "      <td>995</td>\n",
       "    </tr>\n",
       "    <tr>\n",
       "      <th>962</th>\n",
       "      <td>i finally found a way how to delete old tweets...</td>\n",
       "      <td>996</td>\n",
       "    </tr>\n",
       "    <tr>\n",
       "      <th>963</th>\n",
       "      <td>@user what a #view #oregon   #poland #usa #uni...</td>\n",
       "      <td>997</td>\n",
       "    </tr>\n",
       "    <tr>\n",
       "      <th>964</th>\n",
       "      <td>have you put in your #vote yet? if you havent,...</td>\n",
       "      <td>998</td>\n",
       "    </tr>\n",
       "    <tr>\n",
       "      <th>965</th>\n",
       "      <td>@user next chapter in life stas soon, looking...</td>\n",
       "      <td>999</td>\n",
       "    </tr>\n",
       "  </tbody>\n",
       "</table>\n",
       "<p>966 rows × 2 columns</p>\n",
       "</div>"
      ],
      "text/plain": [
       "                                                  text  cluster\n",
       "0    @user when a father is dysfunctional and is so...        0\n",
       "1    @user @user thanks for #lyft credit i can't us...        1\n",
       "2                                  bihday your majesty        2\n",
       "3    #model   i love u take with u all the time in ...        3\n",
       "4               factsguide: society now    #motivation        4\n",
       "..                                                 ...      ...\n",
       "961  are you really   or just pretending to be?  #t...      995\n",
       "962  i finally found a way how to delete old tweets...      996\n",
       "963  @user what a #view #oregon   #poland #usa #uni...      997\n",
       "964  have you put in your #vote yet? if you havent,...      998\n",
       "965   @user next chapter in life stas soon, looking...      999\n",
       "\n",
       "[966 rows x 2 columns]"
      ]
     },
     "execution_count": 12,
     "metadata": {},
     "output_type": "execute_result"
    }
   ],
   "source": [
    "deduplicator.eliminate_partial_duplicates(df, \"text\")"
   ]
  }
 ],
 "metadata": {
  "kernelspec": {
   "display_name": "Python [conda env:.conda-mim_nlp]",
   "language": "python",
   "name": "conda-env-.conda-mim_nlp-py"
  },
  "language_info": {
   "codemirror_mode": {
    "name": "ipython",
    "version": 3
   },
   "file_extension": ".py",
   "mimetype": "text/x-python",
   "name": "python",
   "nbconvert_exporter": "python",
   "pygments_lexer": "ipython3",
   "version": "3.9.16"
  }
 },
 "nbformat": 4,
 "nbformat_minor": 5
}
