{
 "cells": [
  {
   "cell_type": "code",
   "execution_count": 1,
   "metadata": {
    "ExecuteTime": {
     "end_time": "2023-07-13T13:33:12.514642Z",
     "start_time": "2023-07-13T13:33:01.959131Z"
    }
   },
   "outputs": [
    {
     "name": "stderr",
     "output_type": "stream",
     "text": [
      "/home/mbrzozowski/projects/mim_nlp/.venv/lib/python3.10/site-packages/tqdm/auto.py:21: TqdmWarning: IProgress not found. Please update jupyter and ipywidgets. See https://ipywidgets.readthedocs.io/en/stable/user_install.html\n",
      "  from .autonotebook import tqdm as notebook_tqdm\n"
     ]
    }
   ],
   "source": [
    "%load_ext autoreload\n",
    "%autoreload 2\n",
    "\n",
    "import os\n",
    "\n",
    "while \"notebooks\" in os.getcwd():\n",
    "    os.chdir(\"..\")\n",
    "\n",
    "import torch\n",
    "import torch.nn as nn\n",
    "from datasets import load_dataset\n",
    "from numpy import array_equal\n",
    "from sklearn.feature_extraction.text import TfidfVectorizer\n",
    "from sklearn.metrics import accuracy_score\n",
    "from sklearn.model_selection import train_test_split\n",
    "from torchmetrics import Precision\n",
    "\n",
    "from mim_nlp.classifier.nn import NNClassifier"
   ]
  },
  {
   "cell_type": "code",
   "execution_count": 2,
   "metadata": {
    "ExecuteTime": {
     "end_time": "2023-07-13T12:02:06.317194Z",
     "start_time": "2023-07-13T12:02:06.097131Z"
    }
   },
   "outputs": [
    {
     "data": {
      "text/plain": [
       "'2.0.0+cpu'"
      ]
     },
     "execution_count": 2,
     "metadata": {},
     "output_type": "execute_result"
    }
   ],
   "source": [
    "torch.__version__"
   ]
  },
  {
   "cell_type": "code",
   "execution_count": 3,
   "metadata": {
    "ExecuteTime": {
     "end_time": "2023-07-13T12:02:06.519740Z",
     "start_time": "2023-07-13T12:02:06.317194Z"
    }
   },
   "outputs": [
    {
     "data": {
      "text/plain": [
       "False"
      ]
     },
     "execution_count": 3,
     "metadata": {},
     "output_type": "execute_result"
    }
   ],
   "source": [
    "torch.cuda.is_available()"
   ]
  },
  {
   "attachments": {},
   "cell_type": "markdown",
   "metadata": {},
   "source": [
    "# Loading an open-source dataset"
   ]
  },
  {
   "cell_type": "code",
   "execution_count": 4,
   "metadata": {
    "ExecuteTime": {
     "end_time": "2023-07-13T13:33:15.524479Z",
     "start_time": "2023-07-13T13:33:12.514642Z"
    }
   },
   "outputs": [],
   "source": [
    "dataset = load_dataset(\"imdb\")"
   ]
  },
  {
   "cell_type": "code",
   "execution_count": 5,
   "metadata": {
    "ExecuteTime": {
     "end_time": "2023-07-13T12:02:09.094460Z",
     "start_time": "2023-07-13T12:02:08.756017Z"
    }
   },
   "outputs": [
    {
     "data": {
      "text/plain": [
       "DatasetDict({\n",
       "    test: Dataset({\n",
       "        features: ['text', 'label'],\n",
       "        num_rows: 25000\n",
       "    })\n",
       "    train: Dataset({\n",
       "        features: ['text', 'label'],\n",
       "        num_rows: 25000\n",
       "    })\n",
       "    unsupervised: Dataset({\n",
       "        features: ['text', 'label'],\n",
       "        num_rows: 50000\n",
       "    })\n",
       "})"
      ]
     },
     "execution_count": 5,
     "metadata": {},
     "output_type": "execute_result"
    }
   ],
   "source": [
    "dataset"
   ]
  },
  {
   "cell_type": "code",
   "execution_count": 6,
   "metadata": {
    "ExecuteTime": {
     "end_time": "2023-07-13T12:02:09.549885Z",
     "start_time": "2023-07-13T12:02:09.087447Z"
    }
   },
   "outputs": [],
   "source": [
    "x_train, x_val, y_train, y_val = train_test_split(\n",
    "    dataset[\"train\"][\"text\"], dataset[\"train\"][\"label\"], train_size=20000, random_state=0\n",
    ")"
   ]
  },
  {
   "attachments": {},
   "cell_type": "markdown",
   "metadata": {},
   "source": [
    "# Training the model on the dataset"
   ]
  },
  {
   "cell_type": "code",
   "execution_count": 7,
   "metadata": {
    "ExecuteTime": {
     "end_time": "2023-07-13T13:33:15.766685Z",
     "start_time": "2023-07-13T13:33:15.524132Z"
    }
   },
   "outputs": [],
   "source": [
    "class MLP(nn.Module):\n",
    "    def __init__(self, input_size):\n",
    "        super().__init__()\n",
    "\n",
    "        self.dropout = nn.Dropout(0.2)\n",
    "        self.dense = nn.Linear(input_size, 64)\n",
    "        self.relu = nn.ReLU()\n",
    "        self.out_proj = nn.Linear(64, 1)\n",
    "\n",
    "    def forward(self, x):\n",
    "        x = self.dropout(x)\n",
    "        x = self.dense(x)\n",
    "        x = self.relu(x)\n",
    "        x = self.dropout(x)\n",
    "        x = self.out_proj(x)\n",
    "\n",
    "        return x"
   ]
  },
  {
   "cell_type": "code",
   "execution_count": 8,
   "metadata": {
    "ExecuteTime": {
     "end_time": "2023-07-13T13:33:15.980226Z",
     "start_time": "2023-07-13T13:33:15.766685Z"
    }
   },
   "outputs": [],
   "source": [
    "def accuracy(y_pred, y_target):\n",
    "    y_pred = y_pred > 0.5\n",
    "    return torch.sum(y_target == y_pred) / len(y_target)"
   ]
  },
  {
   "cell_type": "code",
   "execution_count": 10,
   "id": "b31175e9",
   "metadata": {},
   "outputs": [
    {
     "name": "stdout",
     "output_type": "stream",
     "text": [
      "3514\n"
     ]
    }
   ],
   "source": [
    "tokenizer = TfidfVectorizer(sublinear_tf=True, min_df=0.01, max_df=0.5, ngram_range=(1, 2))\n",
    "tokenizer = tokenizer.fit(dataset[\"train\"][\"text\"])\n",
    "input_size = len(tokenizer.vocabulary_)\n",
    "print(input_size)"
   ]
  },
  {
   "cell_type": "code",
   "execution_count": 11,
   "id": "677df877",
   "metadata": {},
   "outputs": [],
   "source": [
    "MODEL_PARAMS = {\n",
    "    \"batch_size\": 256,\n",
    "    \"epochs\": 2,\n",
    "    \"optimizer_params\": {\"lr\": 1e-4},\n",
    "    \"device\": \"cpu\",\n",
    "    \"many_gpus\": False,\n",
    "}\n",
    "BINARY_METRICS = {\n",
    "    \"train_metrics_dict\": {\n",
    "        \"accuracy\": accuracy,\n",
    "    },\n",
    "    \"eval_metrics_dict\": {\n",
    "        \"accuracy\": accuracy,\n",
    "    },\n",
    "}"
   ]
  },
  {
   "cell_type": "code",
   "execution_count": 12,
   "id": "313eeec3",
   "metadata": {},
   "outputs": [
    {
     "name": "stderr",
     "output_type": "stream",
     "text": [
      "GPU available: False, used: False\n",
      "TPU available: False, using: 0 TPU cores\n",
      "IPU available: False, using: 0 IPUs\n",
      "HPU available: False, using: 0 HPUs\n",
      "/home/mbrzozowski/projects/mim_nlp/.venv/lib/python3.10/site-packages/pytorch_lightning/trainer/configuration_validator.py:71: PossibleUserWarning: You defined a `validation_step` but have no `val_dataloader`. Skipping val loop.\n",
      "  rank_zero_warn(\n",
      "\n",
      "  | Name                      | Type              | Params\n",
      "----------------------------------------------------------------\n",
      "0 | neural_network            | MLP               | 225 K \n",
      "1 | loss_fun                  | BCEWithLogitsLoss | 0     \n",
      "2 | train_metrics_module_dict | ModuleDict        | 0     \n",
      "3 | eval_metrics_module_dict  | ModuleDict        | 0     \n",
      "4 | test_metrics_module_dict  | ModuleDict        | 0     \n",
      "----------------------------------------------------------------\n",
      "225 K     Trainable params\n",
      "0         Non-trainable params\n",
      "225 K     Total params\n",
      "0.900     Total estimated model params size (MB)\n",
      "/home/mbrzozowski/projects/mim_nlp/.venv/lib/python3.10/site-packages/pytorch_lightning/trainer/connectors/data_connector.py:442: PossibleUserWarning: The dataloader, train_dataloader, does not have many workers which may be a bottleneck. Consider increasing the value of the `num_workers` argument` (try 12 which is the number of cpus on this machine) in the `DataLoader` init to improve performance.\n",
      "  rank_zero_warn(\n"
     ]
    },
    {
     "name": "stdout",
     "output_type": "stream",
     "text": [
      "Epoch 0:   3%|▎         | 2/79 [00:00<00:07, 10.69it/s]"
     ]
    },
    {
     "name": "stderr",
     "output_type": "stream",
     "text": [
      "/home/mbrzozowski/projects/mim_nlp/.venv/lib/python3.10/site-packages/pytorch_lightning/core/module.py:490: UserWarning: You called `self.log('train_loss', ..., logger=True)` but have no logger configured. You can enable one by doing `Trainer(logger=ALogger(...))`\n",
      "  rank_zero_warn(\n"
     ]
    },
    {
     "name": "stdout",
     "output_type": "stream",
     "text": [
      "Epoch 1: 100%|██████████| 79/79 [00:00<00:00, 88.94it/s, train_loss=0.674]"
     ]
    },
    {
     "name": "stderr",
     "output_type": "stream",
     "text": [
      "`Trainer.fit` stopped: `max_epochs=2` reached.\n"
     ]
    },
    {
     "name": "stdout",
     "output_type": "stream",
     "text": [
      "Epoch 1: 100%|██████████| 79/79 [00:00<00:00, 88.71it/s, train_loss=0.674]\n"
     ]
    }
   ],
   "source": [
    "model = NNClassifier(**MODEL_PARAMS, input_size=input_size, neural_network=MLP(input_size), tokenizer=tokenizer)\n",
    "model.fit(x_train, y_train)"
   ]
  },
  {
   "attachments": {},
   "cell_type": "markdown",
   "metadata": {},
   "source": [
    "# Get predictions on the test set"
   ]
  },
  {
   "cell_type": "code",
   "execution_count": 13,
   "metadata": {
    "ExecuteTime": {
     "end_time": "2023-07-13T12:05:16.243652Z",
     "start_time": "2023-07-13T12:04:27.320534Z"
    }
   },
   "outputs": [
    {
     "name": "stderr",
     "output_type": "stream",
     "text": [
      "/home/mbrzozowski/projects/mim_nlp/.venv/lib/python3.10/site-packages/pytorch_lightning/trainer/connectors/data_connector.py:442: PossibleUserWarning: The dataloader, predict_dataloader, does not have many workers which may be a bottleneck. Consider increasing the value of the `num_workers` argument` (try 12 which is the number of cpus on this machine) in the `DataLoader` init to improve performance.\n",
      "  rank_zero_warn(\n"
     ]
    },
    {
     "name": "stdout",
     "output_type": "stream",
     "text": [
      "Predicting DataLoader 0: 100%|██████████| 98/98 [00:00<00:00, 218.38it/s]\n"
     ]
    }
   ],
   "source": [
    "predictions = model.predict(dataset[\"test\"][\"text\"])"
   ]
  },
  {
   "attachments": {},
   "cell_type": "markdown",
   "metadata": {},
   "source": [
    "# Calculate the accuracy score"
   ]
  },
  {
   "cell_type": "code",
   "execution_count": 14,
   "metadata": {
    "ExecuteTime": {
     "end_time": "2023-07-13T12:05:16.712150Z",
     "start_time": "2023-07-13T12:01:53.531238Z"
    }
   },
   "outputs": [
    {
     "data": {
      "text/plain": [
       "0.80188"
      ]
     },
     "execution_count": 14,
     "metadata": {},
     "output_type": "execute_result"
    }
   ],
   "source": [
    "accuracy_score(dataset[\"test\"][\"label\"], predictions)"
   ]
  },
  {
   "attachments": {},
   "cell_type": "markdown",
   "metadata": {},
   "source": [
    "# Saving the model"
   ]
  },
  {
   "cell_type": "code",
   "execution_count": 15,
   "metadata": {
    "ExecuteTime": {
     "end_time": "2023-07-13T12:05:17.626707Z",
     "start_time": "2023-07-13T12:05:17.068787Z"
    }
   },
   "outputs": [],
   "source": [
    "model.save_without_stop_words(\"models/nn_classifier\")"
   ]
  },
  {
   "attachments": {},
   "cell_type": "markdown",
   "metadata": {},
   "source": [
    "# Loading the model"
   ]
  },
  {
   "cell_type": "code",
   "execution_count": 16,
   "metadata": {
    "ExecuteTime": {
     "end_time": "2023-07-13T13:33:24.554025Z",
     "start_time": "2023-07-13T13:33:23.454207Z"
    }
   },
   "outputs": [
    {
     "name": "stderr",
     "output_type": "stream",
     "text": [
      "GPU available: False, used: False\n",
      "TPU available: False, using: 0 TPU cores\n",
      "IPU available: False, using: 0 IPUs\n",
      "HPU available: False, using: 0 HPUs\n"
     ]
    }
   ],
   "source": [
    "model_loaded = NNClassifier.load(\"models/nn_classifier\", device=\"cpu\")"
   ]
  },
  {
   "cell_type": "code",
   "execution_count": 17,
   "metadata": {
    "ExecuteTime": {
     "end_time": "2023-07-13T12:07:25.551498Z",
     "start_time": "2023-07-13T12:06:47.434385Z"
    }
   },
   "outputs": [
    {
     "name": "stderr",
     "output_type": "stream",
     "text": [
      "/home/mbrzozowski/projects/mim_nlp/.venv/lib/python3.10/site-packages/pytorch_lightning/trainer/connectors/data_connector.py:442: PossibleUserWarning: The dataloader, predict_dataloader, does not have many workers which may be a bottleneck. Consider increasing the value of the `num_workers` argument` (try 12 which is the number of cpus on this machine) in the `DataLoader` init to improve performance.\n",
      "  rank_zero_warn(\n"
     ]
    },
    {
     "name": "stdout",
     "output_type": "stream",
     "text": [
      "Predicting DataLoader 0: 100%|██████████| 98/98 [00:00<00:00, 217.53it/s]\n"
     ]
    }
   ],
   "source": [
    "predictions_from_loaded = model.predict(dataset[\"test\"][\"text\"])"
   ]
  },
  {
   "cell_type": "code",
   "execution_count": 18,
   "metadata": {
    "ExecuteTime": {
     "end_time": "2023-07-13T12:07:26.155499Z",
     "start_time": "2023-07-13T12:06:48.032635Z"
    }
   },
   "outputs": [],
   "source": [
    "assert array_equal(predictions, predictions_from_loaded)"
   ]
  },
  {
   "cell_type": "code",
   "execution_count": 19,
   "metadata": {
    "ExecuteTime": {
     "end_time": "2023-07-13T13:40:53.707624Z",
     "start_time": "2023-07-13T13:39:56.353210Z"
    }
   },
   "outputs": [
    {
     "name": "stderr",
     "output_type": "stream",
     "text": [
      "/home/mbrzozowski/projects/mim_nlp/.venv/lib/python3.10/site-packages/pytorch_lightning/trainer/connectors/data_connector.py:442: PossibleUserWarning: The dataloader, test_dataloader, does not have many workers which may be a bottleneck. Consider increasing the value of the `num_workers` argument` (try 12 which is the number of cpus on this machine) in the `DataLoader` init to improve performance.\n",
      "  rank_zero_warn(\n"
     ]
    },
    {
     "name": "stdout",
     "output_type": "stream",
     "text": [
      "Testing DataLoader 0:  29%|██▊       | 28/98 [00:00<00:00, 145.41it/s]"
     ]
    },
    {
     "name": "stderr",
     "output_type": "stream",
     "text": [
      "/home/mbrzozowski/projects/mim_nlp/.venv/lib/python3.10/site-packages/pytorch_lightning/core/module.py:490: UserWarning: You called `self.log('precision', ..., logger=True)` but have no logger configured. You can enable one by doing `Trainer(logger=ALogger(...))`\n",
      "  rank_zero_warn(\n",
      "/home/mbrzozowski/projects/mim_nlp/.venv/lib/python3.10/site-packages/pytorch_lightning/core/module.py:490: UserWarning: You called `self.log('acc', ..., logger=True)` but have no logger configured. You can enable one by doing `Trainer(logger=ALogger(...))`\n",
      "  rank_zero_warn(\n"
     ]
    },
    {
     "name": "stdout",
     "output_type": "stream",
     "text": [
      "Testing DataLoader 0: 100%|██████████| 98/98 [00:00<00:00, 128.30it/s]\n",
      "────────────────────────────────────────────────────────────────────────────────────────────────────────────────────────\n",
      "       Test metric             DataLoader 0\n",
      "────────────────────────────────────────────────────────────────────────────────────────────────────────────────────────\n",
      "           acc              0.8018800020217896\n",
      "        precision           0.9014788866043091\n",
      "────────────────────────────────────────────────────────────────────────────────────────────────────────────────────────\n"
     ]
    },
    {
     "data": {
      "text/plain": [
       "{'precision': 0.9014788866043091, 'acc': 0.8018800020217896}"
      ]
     },
     "execution_count": 19,
     "metadata": {},
     "output_type": "execute_result"
    }
   ],
   "source": [
    "model_loaded.test(\n",
    "    dataset[\"test\"][\"text\"],\n",
    "    dataset[\"test\"][\"label\"],\n",
    "    test_metrics_dict={\"acc\": accuracy, \"precision\": Precision(task=\"binary\")},\n",
    ")"
   ]
  }
 ],
 "metadata": {
  "interpreter": {
   "hash": "128f98f9b2a65a69680066c9201c1bf6ca7546fe0029277b608700b7dc6c71cf"
  },
  "kernelspec": {
   "display_name": "Python 3",
   "language": "python",
   "name": "python3"
  },
  "language_info": {
   "codemirror_mode": {
    "name": "ipython",
    "version": 3
   },
   "file_extension": ".py",
   "mimetype": "text/x-python",
   "name": "python",
   "nbconvert_exporter": "python",
   "pygments_lexer": "ipython3",
   "version": "3.10.13"
  }
 },
 "nbformat": 4,
 "nbformat_minor": 5
}
