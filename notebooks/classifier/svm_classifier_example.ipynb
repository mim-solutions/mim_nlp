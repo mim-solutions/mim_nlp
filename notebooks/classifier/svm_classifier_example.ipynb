{
 "cells": [
  {
   "cell_type": "code",
   "execution_count": 1,
   "id": "2df64002-7dfb-4ae6-a1b9-f3ef77c8f7b7",
   "metadata": {},
   "outputs": [
    {
     "name": "stderr",
     "output_type": "stream",
     "text": [
      "/home/mbrzozowski/projects/mim_nlp/.venv/lib/python3.10/site-packages/tqdm/auto.py:21: TqdmWarning: IProgress not found. Please update jupyter and ipywidgets. See https://ipywidgets.readthedocs.io/en/stable/user_install.html\n",
      "  from .autonotebook import tqdm as notebook_tqdm\n"
     ]
    }
   ],
   "source": [
    "import os\n",
    "\n",
    "from datasets import load_dataset\n",
    "\n",
    "while \"notebooks\" in os.getcwd():\n",
    "    os.chdir(\"..\")\n",
    "\n",
    "from numpy import array_equal\n",
    "from sklearn.metrics import accuracy_score\n",
    "\n",
    "from mim_nlp.classifier.svm import SVMClassifier"
   ]
  },
  {
   "attachments": {},
   "cell_type": "markdown",
   "id": "178cba10-613c-430d-bf42-9f44a56557b6",
   "metadata": {},
   "source": [
    "# Loading an open-source dataset"
   ]
  },
  {
   "cell_type": "code",
   "execution_count": 2,
   "id": "439165a0-57d1-4939-a141-56be6c7a9cce",
   "metadata": {},
   "outputs": [],
   "source": [
    "dataset = load_dataset(\"imdb\")"
   ]
  },
  {
   "cell_type": "code",
   "execution_count": 3,
   "id": "62310856-b547-44ff-8b08-5c5992c112b5",
   "metadata": {},
   "outputs": [
    {
     "data": {
      "text/plain": [
       "DatasetDict({\n",
       "    test: Dataset({\n",
       "        features: ['text', 'label'],\n",
       "        num_rows: 25000\n",
       "    })\n",
       "    train: Dataset({\n",
       "        features: ['text', 'label'],\n",
       "        num_rows: 25000\n",
       "    })\n",
       "    unsupervised: Dataset({\n",
       "        features: ['text', 'label'],\n",
       "        num_rows: 50000\n",
       "    })\n",
       "})"
      ]
     },
     "execution_count": 3,
     "metadata": {},
     "output_type": "execute_result"
    }
   ],
   "source": [
    "dataset"
   ]
  },
  {
   "attachments": {},
   "cell_type": "markdown",
   "id": "3d89cef4-c54a-4ec8-b345-6b2d70a572fe",
   "metadata": {},
   "source": [
    "# Training the model on the dataset"
   ]
  },
  {
   "cell_type": "code",
   "execution_count": 4,
   "id": "65fc1764-f2ce-48fa-b090-a3d610d7c4e5",
   "metadata": {},
   "outputs": [],
   "source": [
    "model = SVMClassifier(\n",
    "    tfidf_transformer_parameters={\n",
    "        \"sublinear_tf\": True,\n",
    "        \"min_df\": 5,\n",
    "        \"max_df\": 0.5,\n",
    "        \"norm\": \"l2\",\n",
    "        \"encoding\": \"latin-1\",\n",
    "        \"ngram_range\": (1, 2),\n",
    "    },\n",
    "    linear_svc_parameters={\"C\": 5, \"fit_intercept\": True},\n",
    ")"
   ]
  },
  {
   "cell_type": "code",
   "execution_count": 5,
   "id": "b71ad58c-efbf-4d02-8725-10bff9b0830a",
   "metadata": {},
   "outputs": [
    {
     "name": "stderr",
     "output_type": "stream",
     "text": [
      "/home/mbrzozowski/projects/mim_nlp/.venv/lib/python3.10/site-packages/sklearn/svm/_classes.py:32: FutureWarning: The default value of `dual` will change from `True` to `'auto'` in 1.5. Set the value of `dual` explicitly to suppress the warning.\n",
      "  warnings.warn(\n"
     ]
    }
   ],
   "source": [
    "model.fit(dataset[\"train\"][\"text\"], dataset[\"train\"][\"label\"])"
   ]
  },
  {
   "attachments": {},
   "cell_type": "markdown",
   "id": "4e26ca77-5db9-4e4f-9189-d76e670d5d8d",
   "metadata": {},
   "source": [
    "# Get predictions on the test set"
   ]
  },
  {
   "cell_type": "code",
   "execution_count": 6,
   "id": "bd96f41b-e525-4422-9d80-0999bf8a066e",
   "metadata": {},
   "outputs": [],
   "source": [
    "predictions = model.predict(dataset[\"test\"][\"text\"])"
   ]
  },
  {
   "cell_type": "code",
   "execution_count": 7,
   "id": "90a00dc2-bcbf-4b9e-a9d4-34f542711b94",
   "metadata": {},
   "outputs": [
    {
     "data": {
      "text/plain": [
       "array([0, 0, 0, ..., 1, 0, 1])"
      ]
     },
     "execution_count": 7,
     "metadata": {},
     "output_type": "execute_result"
    }
   ],
   "source": [
    "predictions"
   ]
  },
  {
   "attachments": {},
   "cell_type": "markdown",
   "id": "018620dc-868e-4dc4-88fd-77ef16186d21",
   "metadata": {},
   "source": [
    "# Calculate the accuracy score"
   ]
  },
  {
   "cell_type": "code",
   "execution_count": 8,
   "id": "55b9d579-c981-485a-a3b4-9557bf2e3f50",
   "metadata": {},
   "outputs": [
    {
     "data": {
      "text/plain": [
       "0.90052"
      ]
     },
     "execution_count": 8,
     "metadata": {},
     "output_type": "execute_result"
    }
   ],
   "source": [
    "accuracy_score(dataset[\"test\"][\"label\"], predictions)"
   ]
  },
  {
   "attachments": {},
   "cell_type": "markdown",
   "id": "b49aa146-067f-4156-bad0-ba9e4cde7715",
   "metadata": {},
   "source": [
    "# Explaining the result"
   ]
  },
  {
   "cell_type": "code",
   "execution_count": 9,
   "id": "44753e80-dba4-47ea-bfd2-d70b0e2f20c2",
   "metadata": {},
   "outputs": [
    {
     "data": {
      "text/plain": [
       "'I love sci-fi and am willing to put up with a lot. Sci-fi movies/TV are usually underfunded, under-appreciated and misunderstood. I tried to like this, I really did, but it is to good TV sci-fi as Babylon 5 is to Star Trek (the original). Silly prosthetics, cheap cardboard sets, stilted dialogues, CG that doesn\\'t match the background, and painfully one-dimensional characters cannot be overcome with a \\'sci-fi\\' setting. (I\\'m sure there are those of you out there who think Babylon 5 is good sci-fi TV. It\\'s not. It\\'s clichéd and uninspiring.) While US viewers might like emotion and character development, sci-fi is a genre that does not take itself seriously (cf. Star Trek). It may treat important issues, yet not as a serious philosophy. It\\'s really difficult to care about the characters here as they are not simply foolish, just missing a spark of life. Their actions and reactions are wooden and predictable, often painful to watch. The makers of Earth KNOW it\\'s rubbish as they have to always say \"Gene Roddenberry\\'s Earth...\" otherwise people would not continue watching. Roddenberry\\'s ashes must be turning in their orbit as this dull, cheap, poorly edited (watching it without advert breaks really brings this home) trudging Trabant of a show lumbers into space. Spoiler. So, kill off a main character. And then bring him back as another actor. Jeeez! Dallas all over again.'"
      ]
     },
     "execution_count": 9,
     "metadata": {},
     "output_type": "execute_result"
    }
   ],
   "source": [
    "example_text = dataset[\"test\"][\"text\"][0]\n",
    "example_text"
   ]
  },
  {
   "cell_type": "code",
   "execution_count": 10,
   "id": "5c06dfb4-bfb1-4986-bc91-096e0b478d74",
   "metadata": {},
   "outputs": [
    {
     "data": {
      "image/png": "[encoded data removed]",
      "text/plain": [
       "<Figure size 1000x1000 with 1 Axes>"
      ]
     },
     "metadata": {},
     "output_type": "display_data"
    }
   ],
   "source": [
    "model.explain_text(example_text, 10)"
   ]
  },
  {
   "cell_type": "code",
   "execution_count": 11,
   "id": "b2db9d87-dd9e-42de-9df5-094cf9d42951",
   "metadata": {},
   "outputs": [
    {
     "data": {
      "text/plain": [
       "[Explanation(word='poorly', score=-0.14110480014687068),\n",
       " Explanation(word='dull', score=-0.12416717737992428),\n",
       " Explanation(word='cheap', score=-0.10924820854767452),\n",
       " Explanation(word='babylon', score=-0.09500008795280639),\n",
       " Explanation(word='wooden', score=-0.08960975968498697),\n",
       " Explanation(word='appreciated', score=0.0792118279356415),\n",
       " Explanation(word='predictable', score=-0.07593517537665405),\n",
       " Explanation(word='cardboard', score=-0.07447887666630651),\n",
       " Explanation(word='to star', score=-0.07050229163928175),\n",
       " Explanation(word='and character', score=0.06668387212398195),\n",
       " Explanation(word='other words', score=-0.6335515764067565)]"
      ]
     },
     "execution_count": 11,
     "metadata": {},
     "output_type": "execute_result"
    }
   ],
   "source": [
    "model.get_top_words_from_text(example_text, 10)"
   ]
  },
  {
   "attachments": {},
   "cell_type": "markdown",
   "id": "e50e1d52-4d6c-4ae4-80fa-e0937d434007",
   "metadata": {},
   "source": [
    "# Saving the model"
   ]
  },
  {
   "cell_type": "code",
   "execution_count": 12,
   "id": "e060fe6a-7094-4eb2-8efa-3ac0646d5cc7",
   "metadata": {},
   "outputs": [],
   "source": [
    "model.save_without_stop_words(\"models/svm\")"
   ]
  },
  {
   "attachments": {},
   "cell_type": "markdown",
   "id": "8d8ce6cc-d8c7-4f47-bde3-1a4a52068070",
   "metadata": {},
   "source": [
    "# Loading the model"
   ]
  },
  {
   "cell_type": "code",
   "execution_count": 13,
   "id": "03548042-2ac0-4315-ac2c-adea64567583",
   "metadata": {},
   "outputs": [],
   "source": [
    "model_loaded = SVMClassifier.load(\"models/svm\")"
   ]
  },
  {
   "cell_type": "code",
   "execution_count": 14,
   "id": "3e5d5bad-6e31-48f9-b901-507ff7445bdf",
   "metadata": {},
   "outputs": [],
   "source": [
    "predictions_from_loaded = model.predict(dataset[\"test\"][\"text\"])"
   ]
  },
  {
   "cell_type": "code",
   "execution_count": 15,
   "id": "c9ef8abb-6f46-4299-89a7-0c0d66c31433",
   "metadata": {},
   "outputs": [],
   "source": [
    "assert array_equal(predictions, predictions_from_loaded)"
   ]
  }
 ],
 "metadata": {
  "interpreter": {
   "hash": "128f98f9b2a65a69680066c9201c1bf6ca7546fe0029277b608700b7dc6c71cf"
  },
  "kernelspec": {
   "display_name": "Python 3.10.11 64-bit ('.venv': poetry)",
   "name": "python3"
  },
  "language_info": {
   "codemirror_mode": {
    "name": "ipython",
    "version": 3
   },
   "file_extension": ".py",
   "mimetype": "text/x-python",
   "name": "python",
   "nbconvert_exporter": "python",
   "pygments_lexer": "ipython3",
   "version": "3.10.13"
  }
 },
 "nbformat": 4,
 "nbformat_minor": 5
}
