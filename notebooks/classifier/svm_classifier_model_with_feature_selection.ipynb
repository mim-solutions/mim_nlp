{
 "cells": [
  {
   "cell_type": "code",
   "execution_count": 1,
   "id": "2df64002-7dfb-4ae6-a1b9-f3ef77c8f7b7",
   "metadata": {},
   "outputs": [
    {
     "name": "stderr",
     "output_type": "stream",
     "text": [
      "/home/mbrzozowski/projects/mim_nlp/.venv/lib/python3.10/site-packages/tqdm/auto.py:21: TqdmWarning: IProgress not found. Please update jupyter and ipywidgets. See https://ipywidgets.readthedocs.io/en/stable/user_install.html\n",
      "  from .autonotebook import tqdm as notebook_tqdm\n"
     ]
    }
   ],
   "source": [
    "import os\n",
    "\n",
    "from datasets import load_dataset\n",
    "\n",
    "while \"notebooks\" in os.getcwd():\n",
    "    os.chdir(\"..\")\n",
    "import timeit\n",
    "\n",
    "import matplotlib.pyplot as plt\n",
    "import numpy as np\n",
    "from sklearn.metrics import accuracy_score\n",
    "\n",
    "from mim_nlp.classifier.svm import SVMClassifier, SVMClassifierWithFeatureSelection\n",
    "from mim_nlp.general_utils import get_size_in_megabytes"
   ]
  },
  {
   "attachments": {},
   "cell_type": "markdown",
   "id": "acc54a14-aeab-4997-ac82-af448e051209",
   "metadata": {},
   "source": [
    "# SVMClassifier with feature selection"
   ]
  },
  {
   "attachments": {},
   "cell_type": "markdown",
   "id": "a6a77950-61ac-4a0a-bce5-a2039e173520",
   "metadata": {},
   "source": [
    "## Goal"
   ]
  },
  {
   "attachments": {},
   "cell_type": "markdown",
   "id": "f6d5a75a-27c9-4b3e-be68-18367cacf3c3",
   "metadata": {},
   "source": [
    "Recall the stages of selecting words (n-grams) for the model `SVMClassifier`:\n",
    "- tf-idf ignores words which occurred in too few documents (`min_df` parameter) and those words which occured in too many documents (`max_df` parameter). However the eliminated words are saved in a `_stop_words` attribute of a saved model, consult [the documentation](https://scikit-learn.org/stable/modules/generated/sklearn.feature_extraction.text.TfidfVectorizer.html) for more details\n",
    "- these eliminated words are not used in the model prediction\n",
    "- because of that, we added the method `save_without_stop_words` to this class\n",
    "\n",
    "See the notebook [svm_classifier_model_save_vs_save_without_stopwords](svm_classifier_model_save_vs_save_without_stopwords.ipynb) for the analysis of model size and the sanity check, that indeed dropping these words does not affect the model prediction while significanlty reducing its size.\n",
    "\n",
    "Here we do the sequel to this analysis, more precisely, what can be done to reduce the model size of the model `SVMClassifierWithFeatureSelection`. The stages of words selection are the following:\n",
    "- tf-idf ignores too rare or common words as in the description above\n",
    "- then the `feature_selector` chooses `k` most important words. Contrary to tf-idf, this step not only takes into account words frequency but also what words are most important in separation of positive and negative labels, \n",
    "- model prediction uses only these selected `k` words\n",
    "- hence we want to add another function `save_with_only_selected_words` when we save model with only the necessary words. We also want check how this affects the model size. Which is crucial in production memory usage by container\n",
    "- we also analyze how (and why) this affects the model score"
   ]
  },
  {
   "attachments": {},
   "cell_type": "markdown",
   "id": "178cba10-613c-430d-bf42-9f44a56557b6",
   "metadata": {},
   "source": [
    "## Training and saving the model"
   ]
  },
  {
   "cell_type": "code",
   "execution_count": 2,
   "id": "439165a0-57d1-4939-a141-56be6c7a9cce",
   "metadata": {},
   "outputs": [
    {
     "name": "stderr",
     "output_type": "stream",
     "text": [
      "/home/mbrzozowski/projects/mim_nlp/.venv/lib/python3.10/site-packages/sklearn/svm/_classes.py:32: FutureWarning: The default value of `dual` will change from `True` to `'auto'` in 1.5. Set the value of `dual` explicitly to suppress the warning.\n",
      "  warnings.warn(\n"
     ]
    }
   ],
   "source": [
    "dataset = load_dataset(\"imdb\")\n",
    "model = SVMClassifierWithFeatureSelection(\n",
    "    tfidf_transformer_parameters={\n",
    "        \"sublinear_tf\": True,\n",
    "        \"min_df\": 5,\n",
    "        \"max_df\": 0.5,\n",
    "        \"norm\": \"l2\",\n",
    "        \"encoding\": \"latin-1\",\n",
    "        \"ngram_range\": (1, 2),\n",
    "    },\n",
    "    feature_selector_parameters={\"k\": 2000},\n",
    "    linear_svc_parameters={\"C\": 5, \"fit_intercept\": True},\n",
    ")\n",
    "model.fit(dataset[\"train\"][\"text\"], dataset[\"train\"][\"label\"])"
   ]
  },
  {
   "cell_type": "code",
   "execution_count": 3,
   "id": "a4a1e4c4-add0-47c7-a807-61e78cb495b4",
   "metadata": {},
   "outputs": [],
   "source": [
    "model_path = \"models/svm\"\n",
    "model.save_without_stop_words(model_path)"
   ]
  },
  {
   "attachments": {},
   "cell_type": "markdown",
   "id": "578265ac-15ad-40af-a40e-7533ae3425fe",
   "metadata": {},
   "source": [
    "## Model reduction"
   ]
  },
  {
   "cell_type": "code",
   "execution_count": 4,
   "id": "d854ac65-ba88-4b16-9f89-29e585dcd844",
   "metadata": {},
   "outputs": [],
   "source": [
    "tf_idf, selector, svc = model.pipeline\n",
    "tf_idf_vocabulary = tf_idf.vocabulary_\n",
    "tf_idf_idfs = tf_idf.idf_"
   ]
  },
  {
   "cell_type": "code",
   "execution_count": 5,
   "id": "9151ec39-4e56-484f-bdbf-540309280c93",
   "metadata": {},
   "outputs": [],
   "source": [
    "all_words = model.pipeline[:-1].get_feature_names_out()"
   ]
  },
  {
   "cell_type": "code",
   "execution_count": 6,
   "id": "2f88fc31-9c85-4784-9c21-afc5bfde46b9",
   "metadata": {},
   "outputs": [],
   "source": [
    "svc_coefs = svc.coef_[0]\n",
    "svc_intercept = svc.intercept_[0]"
   ]
  },
  {
   "cell_type": "code",
   "execution_count": 7,
   "id": "0e4e3ebe-ba0e-4d11-b136-58e074fe4e4e",
   "metadata": {},
   "outputs": [
    {
     "data": {
      "text/plain": [
       "2000"
      ]
     },
     "execution_count": 7,
     "metadata": {},
     "output_type": "execute_result"
    }
   ],
   "source": [
    "len(all_words)"
   ]
  },
  {
   "cell_type": "code",
   "execution_count": 8,
   "id": "c11b9faf-d8f0-4784-940c-0318715a2df6",
   "metadata": {},
   "outputs": [
    {
     "data": {
      "text/plain": [
       "156792"
      ]
     },
     "execution_count": 8,
     "metadata": {},
     "output_type": "execute_result"
    }
   ],
   "source": [
    "len(tf_idf_vocabulary)"
   ]
  },
  {
   "attachments": {},
   "cell_type": "markdown",
   "id": "be45d533-83f7-4cff-8d05-76dec8c7cd0c",
   "metadata": {},
   "source": [
    "## Save the reduced model"
   ]
  },
  {
   "cell_type": "code",
   "execution_count": 9,
   "id": "3cead6b7-945b-4dc3-8888-1eb8d845fa84",
   "metadata": {},
   "outputs": [],
   "source": [
    "reduced_model_path = \"models/svm_reduced/\"\n",
    "model.save_with_only_selected_words(reduced_model_path)\n",
    "del model"
   ]
  },
  {
   "attachments": {},
   "cell_type": "markdown",
   "id": "ab5f1d21-f6ae-4624-b768-a47aec6293df",
   "metadata": {},
   "source": [
    "## Model comparison"
   ]
  },
  {
   "cell_type": "code",
   "execution_count": 10,
   "id": "aae3c8da-6bda-4528-b4e1-067891393a4a",
   "metadata": {},
   "outputs": [],
   "source": [
    "texts = dataset[\"test\"][\"text\"]\n",
    "true_classes = dataset[\"test\"][\"label\"]"
   ]
  },
  {
   "cell_type": "code",
   "execution_count": 11,
   "id": "394f5268-3b3e-4d0b-91ed-29266204c959",
   "metadata": {},
   "outputs": [],
   "source": [
    "model_paths = {\"full\": model_path, \"reduced\": reduced_model_path}"
   ]
  },
  {
   "cell_type": "code",
   "execution_count": 12,
   "id": "2b993f43-7033-4d52-b536-3103a210d013",
   "metadata": {},
   "outputs": [],
   "source": [
    "models = {\"full\": SVMClassifierWithFeatureSelection.load(model_path), \"reduced\": SVMClassifier.load(reduced_model_path)}"
   ]
  },
  {
   "cell_type": "code",
   "execution_count": 13,
   "id": "96b0f08f-e0c7-400f-af58-78ea1a6bb701",
   "metadata": {},
   "outputs": [
    {
     "data": {
      "text/plain": [
       "{'full': <mim_nlp.classifier.svm.svm.SVMClassifierWithFeatureSelection at 0x7f92440cdf00>,\n",
       " 'reduced': <mim_nlp.classifier.svm.svm.SVMClassifier at 0x7f91b6c9e140>}"
      ]
     },
     "execution_count": 13,
     "metadata": {},
     "output_type": "execute_result"
    }
   ],
   "source": [
    "models"
   ]
  },
  {
   "cell_type": "code",
   "execution_count": 14,
   "id": "ab1509ed-5f6c-40d3-a2d7-ff2c1138fc67",
   "metadata": {},
   "outputs": [],
   "source": [
    "times = {}\n",
    "predictions = {}\n",
    "classes = {}\n",
    "scores = {}\n",
    "for key, model in models.items():\n",
    "    start = timeit.default_timer()\n",
    "    classes[key] = model.predict(texts)\n",
    "    scores[key] = model.predict_scores(texts)\n",
    "    stop = timeit.default_timer()\n",
    "    times[key] = stop - start"
   ]
  },
  {
   "cell_type": "code",
   "execution_count": 15,
   "id": "d472cce1-d8b4-4326-b722-195d5dda6ba5",
   "metadata": {},
   "outputs": [
    {
     "data": {
      "text/plain": [
       "{'full': 17.49950238299789, 'reduced': 15.196731610001734}"
      ]
     },
     "execution_count": 15,
     "metadata": {},
     "output_type": "execute_result"
    }
   ],
   "source": [
    "times"
   ]
  },
  {
   "cell_type": "code",
   "execution_count": 16,
   "id": "dd05a568-c4a6-43b8-a332-051c127fb616",
   "metadata": {},
   "outputs": [
    {
     "data": {
      "text/plain": [
       "0.13159064312785684"
      ]
     },
     "execution_count": 16,
     "metadata": {},
     "output_type": "execute_result"
    }
   ],
   "source": [
    "1 - times[\"reduced\"] / times[\"full\"]"
   ]
  },
  {
   "cell_type": "code",
   "execution_count": 17,
   "id": "d5748b21-5599-49ce-8139-0a62c83c762e",
   "metadata": {},
   "outputs": [
    {
     "data": {
      "text/plain": [
       "'7 MB'"
      ]
     },
     "execution_count": 17,
     "metadata": {},
     "output_type": "execute_result"
    }
   ],
   "source": [
    "get_size_in_megabytes(model_path)"
   ]
  },
  {
   "cell_type": "code",
   "execution_count": 18,
   "id": "ec94d04b-8280-4fdb-8115-6d34e6166f3f",
   "metadata": {},
   "outputs": [
    {
     "data": {
      "text/plain": [
       "'90 KB'"
      ]
     },
     "execution_count": 18,
     "metadata": {},
     "output_type": "execute_result"
    }
   ],
   "source": [
    "get_size_in_megabytes(reduced_model_path)"
   ]
  },
  {
   "attachments": {},
   "cell_type": "markdown",
   "id": "a821da4f-5c4e-42d2-b6c9-1a53d5a608b1",
   "metadata": {},
   "source": [
    "### Compare predictions of full and reduced model"
   ]
  },
  {
   "cell_type": "code",
   "execution_count": 19,
   "id": "bf9c1b58-28e4-4476-93a2-652e6edf311e",
   "metadata": {},
   "outputs": [
    {
     "name": "stdout",
     "output_type": "stream",
     "text": [
      "full\n",
      "0.89532\n",
      "reduced\n",
      "0.89464\n"
     ]
    }
   ],
   "source": [
    "for model_name in models:\n",
    "    print(model_name)\n",
    "    print(accuracy_score(true_classes, classes[model_name]))"
   ]
  },
  {
   "cell_type": "code",
   "execution_count": 20,
   "id": "28f1d7ef-d5e1-4b1b-a709-4f1a8c6145e2",
   "metadata": {},
   "outputs": [
    {
     "data": {
      "text/plain": [
       "<matplotlib.lines.Line2D at 0x7f91b6c9e530>"
      ]
     },
     "execution_count": 20,
     "metadata": {},
     "output_type": "execute_result"
    },
    {
     "data": {
      "image/png": "[encoded data removed]",
      "text/plain": [
       "<Figure size 1000x1000 with 1 Axes>"
      ]
     },
     "metadata": {},
     "output_type": "display_data"
    }
   ],
   "source": [
    "fig, ax = plt.subplots(figsize=(10, 10))\n",
    "x = scores[\"full\"]\n",
    "y = scores[\"reduced\"]\n",
    "ax.scatter(x, y)\n",
    "lims = [\n",
    "    np.min([ax.get_xlim(), ax.get_ylim()]),  # min of both axes\n",
    "    np.max([ax.get_xlim(), ax.get_ylim()]),  # max of both axes\n",
    "]\n",
    "\n",
    "# now plot both limits against eachother\n",
    "ax.plot(lims, lims, \"k-\", alpha=0.75, zorder=0)\n",
    "ax.set_aspect(\"equal\")\n",
    "ax.set_xlim(lims)\n",
    "ax.set_ylim(lims)\n",
    "ax.set_xlabel(\"Score of the full model (with the intercept)\")\n",
    "ax.set_ylabel(\"Score of the reduced model (with the intercept)\")\n",
    "ax.axhline(y=0, color=\"red\")\n",
    "ax.axvline(x=0, color=\"red\")"
   ]
  },
  {
   "attachments": {},
   "cell_type": "markdown",
   "id": "8e28ad60-2cb4-4935-9cdf-ccd12f0ca57a",
   "metadata": {},
   "source": [
    "## (*Appendix) Why is there a difference in the reduced model prediction at all?"
   ]
  },
  {
   "attachments": {},
   "cell_type": "markdown",
   "id": "867dbb32-e45f-4897-b5f7-89757e630598",
   "metadata": {},
   "source": [
    "### Formula for the full model"
   ]
  },
  {
   "attachments": {},
   "cell_type": "markdown",
   "id": "46570317-3b84-4bef-b395-9191532f5e0f",
   "metadata": {},
   "source": [
    "Observe that the transformation done by the full model of the text $X$ is the following:\n",
    "Count occurences of all the n-grams from the full tf-idf vocabulary $T$, that is tf (term frequency) of words:\n",
    "$$\n",
    "\\left(\\text{tf}(i,X)\\right)_{i \\in T}\n",
    "$$\n",
    "Multiply tf by idf (inverse document frequency of the n-gram which is a weight calculated during fitting process, this does not depend on the text $X$):\n",
    "$$\n",
    "\\left(\\text{tf}(i,X)\\cdot \\text{idf}(i) \\right)_{i \\in T}\n",
    "$$\n",
    "Normalize the obtained vector, that is divide by the norm of the entire vector. This norm depends on all the coordinates corresponding to $T$:\n",
    "$$\n",
    "\\left( \\frac{\\text{tf}(i,X)\\cdot \\text{idf}(i)}{\\sqrt{ \\sum_{j \\in T} (\\text{tf}(j,X)\\cdot \\text{idf}(j) )^{2}}}  \\right)_{i \\in T}\n",
    "$$\n",
    "Select only parts of the vector which where selected by feature selector. Denote this set of n-grams as $S$\n",
    "$$\n",
    "\\left( \\frac{\\text{tf}(i,X)\\cdot \\text{idf}(i)}{\\sqrt{ \\sum_{j \\in T} (\\text{tf}(j,X)\\cdot \\text{idf}(j) )^{2}}}  \\right)_{i \\in S}\n",
    "$$\n",
    "Let us denote the final prediction of the full model for the text $X$ as $P(X)$. It is equal to:\n",
    "$$\n",
    "P(X) = \n",
    "b + \\sum_{i \\in S} \\text{svc}(i) \\cdot \n",
    "\\left( \\frac{\\text{tf}(i,X)\\cdot \\text{idf}(i)}{\\sqrt{ \\sum_{j \\in T} (\\text{tf}(j,X)\\cdot \\text{idf}(j) )^{2}}}  \\right),\n",
    "$$\n",
    "where $b$ is the intercept."
   ]
  },
  {
   "attachments": {},
   "cell_type": "markdown",
   "id": "15efe59e-30e9-46fc-9276-f8ca7bfd72d5",
   "metadata": {},
   "source": [
    "### Formula for the reduced model"
   ]
  },
  {
   "attachments": {},
   "cell_type": "markdown",
   "id": "b12b4744-afae-454a-96af-55982162ad97",
   "metadata": {},
   "source": [
    "While the transformation of the reduced model is the following:\n",
    "Count occurences of all the n-grams from the subset $S$, that is tf (term frequency) of words:\n",
    "$$\n",
    "\\left(\\text{tf}(i, X)\\right)_{i \\in S}\n",
    "$$\n",
    "Multiply tf by idf (inverse document frequency of the n-gram which is a weight calculated during fitting process):\n",
    "$$\n",
    "\\left(\\text{tf}(i, X)\\cdot \\text{idf}(i) \\right)_{i \\in S}\n",
    "$$\n",
    "Normalize the obtained vector. This norm depends on only the coordinates corresponding to $S$:\n",
    "$$\n",
    "\\left( \\frac{\\text{tf}(i, X)\\cdot \\text{idf}(i)}{\\sqrt{ \\sum_{j \\in S} (\\text{tf}(j, X)\\cdot \\text{idf}(j) )^{2}}}  \\right)_{i \\in S}\n",
    "$$\n",
    "The final prediction of the reduced model is equal to:\n",
    "$$\n",
    "P_{\\text{reduced}}(X) = \n",
    "b + \\sum_{i \\in S} \\text{svc}(i) \\cdot \n",
    "\\left( \\frac{\\text{tf}(i, X)\\cdot \\text{idf}(i)}{\\sqrt{ \\sum_{j \\in S} (\\text{tf}(j, X)\\cdot \\text{idf}(j) )^{2}}}  \\right).\n",
    "$$"
   ]
  },
  {
   "attachments": {},
   "cell_type": "markdown",
   "id": "2f5ad24c-5155-44fc-9701-706de14e5743",
   "metadata": {},
   "source": [
    "### Can we reconstruct the full prediction from the reduced model?"
   ]
  },
  {
   "attachments": {},
   "cell_type": "markdown",
   "id": "acbdd68b-2bbb-4298-8b11-3f238b5efb62",
   "metadata": {},
   "source": [
    "The subtle, but crucial difference between theses formulas is the set $S$ or $T$ in the denominator.\n",
    "There is a natural question if we can reconstruct the full prediction from the reduced one. Unfortunately, this is not the case. Indeed, after some transformations, we have:\n",
    "$$\n",
    "P(X) = b + \\left(P_{\\text{reduced}}(X) - b\\right) \\cdot A(X),\n",
    "$$\n",
    "where the factor $A$ is equal to:\n",
    "$$\n",
    "A(X) =\n",
    "\\frac{\\sqrt{ \\sum_{j \\in S} (\\text{tf}(j, X)\\cdot \\text{idf}(j) )^{2}}}{\\sqrt{ \\sum_{j \\in T} (\\text{tf}(j, X)\\cdot \\text{idf}(j) )^{2}}} =\n",
    "\\sqrt{1 - \\frac{1}{\\sum_{j \\in T \\setminus S} (\\text{tf}(j, X)\\cdot \\text{idf}(j) )^{2}}}.\n",
    "$$\n",
    "We cannot calculate $A(X)$ without knowing the full model parameters $(\\text{idf}(j))_{j \\in T \\setminus S}$. And these parameters is precisely the information destroyed during the compression."
   ]
  },
  {
   "attachments": {},
   "cell_type": "markdown",
   "id": "feb5795b-4730-4bac-a631-9e6653d791f1",
   "metadata": {},
   "source": [
    "### Connection between the formulas and the scatter plot of empirical data"
   ]
  },
  {
   "attachments": {},
   "cell_type": "markdown",
   "id": "10eab521-5355-4bab-b770-56a3ec9d6ad3",
   "metadata": {},
   "source": [
    "This relationship explains the scatter plot we have seen and why the points seem to lie between the diagonal and the vertical lines. Indeed, we will show below that after omitting the intercept, all the points must be precisely in the sector $\\frac{y}{x} \\geq 1$."
   ]
  },
  {
   "attachments": {},
   "cell_type": "markdown",
   "id": "0f59dec1-d817-400c-ab9b-a439e4122e06",
   "metadata": {},
   "source": [
    "We have the following:\n",
    "$$\n",
    "\\frac{P_{\\text{reduced}}(X) - b}{P(X) - b} = \\frac{1}{A(X)} \\geq 1,\n",
    "$$\n",
    "because $A(X) \\leq 1$."
   ]
  },
  {
   "cell_type": "code",
   "execution_count": 21,
   "id": "69981309-4008-4fef-9798-800585a8d3cd",
   "metadata": {},
   "outputs": [],
   "source": [
    "b = model.pipeline[1].intercept_[0]"
   ]
  },
  {
   "cell_type": "code",
   "execution_count": 22,
   "id": "e84d3da1-5036-45ae-a19f-bd1b9c7915c4",
   "metadata": {},
   "outputs": [],
   "source": [
    "scores_full_model = np.array(scores[\"full\"]) - b\n",
    "scores_reduced_model = np.array(scores[\"reduced\"]) - b"
   ]
  },
  {
   "cell_type": "code",
   "execution_count": 23,
   "id": "068a7b85-c375-4a9b-a555-64bd0af8a026",
   "metadata": {},
   "outputs": [
    {
     "data": {
      "text/plain": [
       "<matplotlib.lines.Line2D at 0x7f91a4f1f6d0>"
      ]
     },
     "execution_count": 23,
     "metadata": {},
     "output_type": "execute_result"
    },
    {
     "data": {
      "image/png": "[encoded data removed]",
      "text/plain": [
       "<Figure size 1000x1000 with 1 Axes>"
      ]
     },
     "metadata": {},
     "output_type": "display_data"
    }
   ],
   "source": [
    "fig, ax = plt.subplots(figsize=(10, 10))\n",
    "x = scores_full_model\n",
    "y = scores_reduced_model\n",
    "ax.scatter(x, y)\n",
    "lims = [\n",
    "    np.min([ax.get_xlim(), ax.get_ylim()]),  # min of both axes\n",
    "    np.max([ax.get_xlim(), ax.get_ylim()]),  # max of both axes\n",
    "]\n",
    "\n",
    "# now plot both limits against eachother\n",
    "ax.plot(lims, lims, \"k-\", alpha=0.75, zorder=0)\n",
    "ax.set_aspect(\"equal\")\n",
    "ax.set_xlim(lims)\n",
    "ax.set_ylim(lims)\n",
    "ax.set_xlabel(\"Score of the full model (minus intercept)\")\n",
    "ax.set_ylabel(\"Score of the reducef model (minus intercept)\")\n",
    "ax.axhline(y=0, color=\"k\")\n",
    "ax.axvline(x=0, color=\"k\")\n",
    "ax.axhline(y=0, color=\"red\")\n",
    "ax.axvline(x=0, color=\"red\")"
   ]
  },
  {
   "cell_type": "code",
   "execution_count": 24,
   "id": "c5c592fb-e062-4b5a-a64f-856c1968610b",
   "metadata": {},
   "outputs": [],
   "source": [
    "assert sum(y / x <= 1) == 0"
   ]
  },
  {
   "attachments": {},
   "cell_type": "markdown",
   "id": "bbb26fb9-26c6-46e7-be73-9d080c8645de",
   "metadata": {},
   "source": [
    "This scaling effect is precisely what we can expect from decreasing the normalization factor."
   ]
  },
  {
   "attachments": {},
   "cell_type": "markdown",
   "id": "3db40d81-a5fe-4991-8a11-a3e495fa430f",
   "metadata": {},
   "source": [
    "Corollaries:\n",
    "1. It should be possible to make this model compression lossless by eliminating normalization step or moving it after the feature selection step\n",
    "1. The same effect can be obtained by training the svc without the intercept"
   ]
  }
 ],
 "metadata": {
  "kernelspec": {
   "display_name": ".venv",
   "language": "python",
   "name": "python3"
  },
  "language_info": {
   "codemirror_mode": {
    "name": "ipython",
    "version": 3
   },
   "file_extension": ".py",
   "mimetype": "text/x-python",
   "name": "python",
   "nbconvert_exporter": "python",
   "pygments_lexer": "ipython3",
   "version": "3.10.13"
  }
 },
 "nbformat": 4,
 "nbformat_minor": 5
}
