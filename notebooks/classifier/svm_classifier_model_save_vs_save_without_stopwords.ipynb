{
 "cells": [
  {
   "cell_type": "code",
   "execution_count": 1,
   "id": "2df64002-7dfb-4ae6-a1b9-f3ef77c8f7b7",
   "metadata": {},
   "outputs": [
    {
     "name": "stderr",
     "output_type": "stream",
     "text": [
      "/home/mbrzozowski/projects/mim_nlp/.venv/lib/python3.10/site-packages/tqdm/auto.py:21: TqdmWarning: IProgress not found. Please update jupyter and ipywidgets. See https://ipywidgets.readthedocs.io/en/stable/user_install.html\n",
      "  from .autonotebook import tqdm as notebook_tqdm\n"
     ]
    }
   ],
   "source": [
    "import os\n",
    "\n",
    "from datasets import load_dataset\n",
    "\n",
    "while \"notebooks\" in os.getcwd():\n",
    "    os.chdir(\"..\")\n",
    "\n",
    "from numpy import array_equal\n",
    "\n",
    "from mim_nlp.classifier.svm import SVMClassifier\n",
    "from mim_nlp.general_utils import get_size_in_megabytes"
   ]
  },
  {
   "attachments": {},
   "cell_type": "markdown",
   "id": "178cba10-613c-430d-bf42-9f44a56557b6",
   "metadata": {},
   "source": [
    "# Training the model"
   ]
  },
  {
   "cell_type": "code",
   "execution_count": 2,
   "id": "439165a0-57d1-4939-a141-56be6c7a9cce",
   "metadata": {},
   "outputs": [
    {
     "name": "stderr",
     "output_type": "stream",
     "text": [
      "/home/mbrzozowski/projects/mim_nlp/.venv/lib/python3.10/site-packages/sklearn/svm/_classes.py:32: FutureWarning: The default value of `dual` will change from `True` to `'auto'` in 1.5. Set the value of `dual` explicitly to suppress the warning.\n",
      "  warnings.warn(\n"
     ]
    }
   ],
   "source": [
    "dataset = load_dataset(\"imdb\")\n",
    "model = SVMClassifier(\n",
    "    tfidf_transformer_parameters={\n",
    "        \"sublinear_tf\": True,\n",
    "        \"min_df\": 5,\n",
    "        \"max_df\": 0.5,\n",
    "        \"norm\": \"l2\",\n",
    "        \"encoding\": \"latin-1\",\n",
    "        \"ngram_range\": (1, 2),\n",
    "    },\n",
    "    linear_svc_parameters={\"C\": 5, \"fit_intercept\": True},\n",
    ")\n",
    "model.fit(dataset[\"train\"][\"text\"], dataset[\"train\"][\"label\"])"
   ]
  },
  {
   "attachments": {},
   "cell_type": "markdown",
   "id": "4e26ca77-5db9-4e4f-9189-d76e670d5d8d",
   "metadata": {},
   "source": [
    "# Compare vocabulary size"
   ]
  },
  {
   "cell_type": "code",
   "execution_count": 3,
   "id": "bd96f41b-e525-4422-9d80-0999bf8a066e",
   "metadata": {},
   "outputs": [
    {
     "data": {
      "text/plain": [
       "156792"
      ]
     },
     "execution_count": 3,
     "metadata": {},
     "output_type": "execute_result"
    }
   ],
   "source": [
    "len(model.pipeline[0].vocabulary_)"
   ]
  },
  {
   "cell_type": "code",
   "execution_count": 4,
   "id": "90a00dc2-bcbf-4b9e-a9d4-34f542711b94",
   "metadata": {},
   "outputs": [
    {
     "data": {
      "text/plain": [
       "1357040"
      ]
     },
     "execution_count": 4,
     "metadata": {},
     "output_type": "execute_result"
    }
   ],
   "source": [
    "len(model.pipeline[0].stop_words_)"
   ]
  },
  {
   "attachments": {},
   "cell_type": "markdown",
   "id": "018620dc-868e-4dc4-88fd-77ef16186d21",
   "metadata": {},
   "source": [
    "# Save the full model"
   ]
  },
  {
   "cell_type": "code",
   "execution_count": 5,
   "id": "55b9d579-c981-485a-a3b4-9557bf2e3f50",
   "metadata": {},
   "outputs": [
    {
     "name": "stdout",
     "output_type": "stream",
     "text": [
      "CPU times: user 384 ms, sys: 63.5 ms, total: 448 ms\n",
      "Wall time: 470 ms\n"
     ]
    }
   ],
   "source": [
    "%%time\n",
    "model.save(\"models/svm\")"
   ]
  },
  {
   "cell_type": "code",
   "execution_count": 6,
   "id": "551ad391-4dad-46f5-a819-17ff365dfd5a",
   "metadata": {},
   "outputs": [
    {
     "data": {
      "text/plain": [
       "'26 MB'"
      ]
     },
     "execution_count": 6,
     "metadata": {},
     "output_type": "execute_result"
    }
   ],
   "source": [
    "get_size_in_megabytes(\"models/svm\")"
   ]
  },
  {
   "cell_type": "code",
   "execution_count": 7,
   "id": "75155630-5db8-4886-993f-199d22cfa49e",
   "metadata": {},
   "outputs": [
    {
     "name": "stdout",
     "output_type": "stream",
     "text": [
      "CPU times: user 133 ms, sys: 145 µs, total: 133 ms\n",
      "Wall time: 131 ms\n"
     ]
    }
   ],
   "source": [
    "%%time\n",
    "model.save_without_stop_words(\"models/svm_small\")"
   ]
  },
  {
   "cell_type": "code",
   "execution_count": 8,
   "id": "ca737b9f-ecf4-46b5-9990-92ea6e941c55",
   "metadata": {},
   "outputs": [
    {
     "data": {
      "text/plain": [
       "'6 MB'"
      ]
     },
     "execution_count": 8,
     "metadata": {},
     "output_type": "execute_result"
    }
   ],
   "source": [
    "get_size_in_megabytes(\"models/svm_small\")"
   ]
  },
  {
   "attachments": {},
   "cell_type": "markdown",
   "id": "b49aa146-067f-4156-bad0-ba9e4cde7715",
   "metadata": {},
   "source": [
    "# Prediction check"
   ]
  },
  {
   "cell_type": "code",
   "execution_count": 9,
   "id": "44753e80-dba4-47ea-bfd2-d70b0e2f20c2",
   "metadata": {},
   "outputs": [],
   "source": [
    "model = SVMClassifier.load(\"models/svm\")\n",
    "predictions_full = model.predict_scores(dataset[\"test\"][\"text\"])"
   ]
  },
  {
   "cell_type": "code",
   "execution_count": 10,
   "id": "b20b5e4c-6ec7-4417-9fb7-5f15d0535f2f",
   "metadata": {},
   "outputs": [],
   "source": [
    "model = SVMClassifier.load(\"models/svm_small\")\n",
    "predictions_small = model.predict_scores(dataset[\"test\"][\"text\"])"
   ]
  },
  {
   "cell_type": "code",
   "execution_count": 11,
   "id": "c9ef8abb-6f46-4299-89a7-0c0d66c31433",
   "metadata": {},
   "outputs": [],
   "source": [
    "assert array_equal(predictions_full, predictions_small)"
   ]
  }
 ],
 "metadata": {
  "kernelspec": {
   "display_name": ".venv",
   "language": "python",
   "name": "python3"
  },
  "language_info": {
   "codemirror_mode": {
    "name": "ipython",
    "version": 3
   },
   "file_extension": ".py",
   "mimetype": "text/x-python",
   "name": "python",
   "nbconvert_exporter": "python",
   "pygments_lexer": "ipython3",
   "version": "3.10.13"
  }
 },
 "nbformat": 4,
 "nbformat_minor": 5
}
